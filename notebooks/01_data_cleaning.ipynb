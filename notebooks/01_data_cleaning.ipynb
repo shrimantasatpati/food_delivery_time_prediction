{
  "cells": [
    {
      "cell_type": "markdown",
      "metadata": {
        "id": "KlWPlTA8lHt7"
      },
      "source": [
        "##### Importing libraries"
      ]
    },
    {
      "cell_type": "code",
      "execution_count": 1,
      "metadata": {
        "id": "BqoOj6RflHt_"
      },
      "outputs": [],
      "source": [
        "# Required libraries\n",
        "import numpy as np\n",
        "import pandas as pd\n",
        "\n",
        "# Scikit-Learn models, metrics, preprocessing\n",
        "from sklearn.impute import SimpleImputer\n",
        "\n",
        "#Filter and ignore warnings\n",
        "import warnings\n",
        "warnings.filterwarnings('ignore')"
      ]
    },
    {
      "cell_type": "code",
      "execution_count": 2,
      "metadata": {
        "colab": {
          "base_uri": "https://localhost:8080/",
          "height": 244
        },
        "id": "lpF14SPIlHuC",
        "outputId": "3b732425-b314-41bc-be15-97718fa9f320"
      },
      "outputs": [
        {
          "data": {
            "text/html": [
              "<div>\n",
              "<style scoped>\n",
              "    .dataframe tbody tr th:only-of-type {\n",
              "        vertical-align: middle;\n",
              "    }\n",
              "\n",
              "    .dataframe tbody tr th {\n",
              "        vertical-align: top;\n",
              "    }\n",
              "\n",
              "    .dataframe thead th {\n",
              "        text-align: right;\n",
              "    }\n",
              "</style>\n",
              "<table border=\"1\" class=\"dataframe\">\n",
              "  <thead>\n",
              "    <tr style=\"text-align: right;\">\n",
              "      <th></th>\n",
              "      <th>ID</th>\n",
              "      <th>Delivery_person_ID</th>\n",
              "      <th>Delivery_person_Age</th>\n",
              "      <th>Delivery_person_Ratings</th>\n",
              "      <th>Restaurant_latitude</th>\n",
              "      <th>Restaurant_longitude</th>\n",
              "      <th>Delivery_location_latitude</th>\n",
              "      <th>Delivery_location_longitude</th>\n",
              "      <th>Order_Date</th>\n",
              "      <th>Time_Orderd</th>\n",
              "      <th>Time_Order_picked</th>\n",
              "      <th>Weatherconditions</th>\n",
              "      <th>Road_traffic_density</th>\n",
              "      <th>Vehicle_condition</th>\n",
              "      <th>Type_of_order</th>\n",
              "      <th>Type_of_vehicle</th>\n",
              "      <th>multiple_deliveries</th>\n",
              "      <th>Festival</th>\n",
              "      <th>City_type</th>\n",
              "      <th>Time_taken(min)</th>\n",
              "    </tr>\n",
              "  </thead>\n",
              "  <tbody>\n",
              "    <tr>\n",
              "      <th>0</th>\n",
              "      <td>0x4607</td>\n",
              "      <td>INDORES13DEL02</td>\n",
              "      <td>37</td>\n",
              "      <td>4.9</td>\n",
              "      <td>22.745049</td>\n",
              "      <td>75.892471</td>\n",
              "      <td>22.765049</td>\n",
              "      <td>75.912471</td>\n",
              "      <td>19-03-2022</td>\n",
              "      <td>11:30:00</td>\n",
              "      <td>11:45:00</td>\n",
              "      <td>conditions Sunny</td>\n",
              "      <td>High</td>\n",
              "      <td>2</td>\n",
              "      <td>Snack</td>\n",
              "      <td>motorcycle</td>\n",
              "      <td>0</td>\n",
              "      <td>No</td>\n",
              "      <td>Urban</td>\n",
              "      <td>(min) 24</td>\n",
              "    </tr>\n",
              "    <tr>\n",
              "      <th>1</th>\n",
              "      <td>0xb379</td>\n",
              "      <td>BANGRES18DEL02</td>\n",
              "      <td>34</td>\n",
              "      <td>4.5</td>\n",
              "      <td>12.913041</td>\n",
              "      <td>77.683237</td>\n",
              "      <td>13.043041</td>\n",
              "      <td>77.813237</td>\n",
              "      <td>25-03-2022</td>\n",
              "      <td>19:45:00</td>\n",
              "      <td>19:50:00</td>\n",
              "      <td>conditions Stormy</td>\n",
              "      <td>Jam</td>\n",
              "      <td>2</td>\n",
              "      <td>Snack</td>\n",
              "      <td>scooter</td>\n",
              "      <td>1</td>\n",
              "      <td>No</td>\n",
              "      <td>Metropolitian</td>\n",
              "      <td>(min) 33</td>\n",
              "    </tr>\n",
              "    <tr>\n",
              "      <th>2</th>\n",
              "      <td>0x5d6d</td>\n",
              "      <td>BANGRES19DEL01</td>\n",
              "      <td>23</td>\n",
              "      <td>4.4</td>\n",
              "      <td>12.914264</td>\n",
              "      <td>77.678400</td>\n",
              "      <td>12.924264</td>\n",
              "      <td>77.688400</td>\n",
              "      <td>19-03-2022</td>\n",
              "      <td>08:30:00</td>\n",
              "      <td>08:45:00</td>\n",
              "      <td>conditions Sandstorms</td>\n",
              "      <td>Low</td>\n",
              "      <td>0</td>\n",
              "      <td>Drinks</td>\n",
              "      <td>motorcycle</td>\n",
              "      <td>1</td>\n",
              "      <td>No</td>\n",
              "      <td>Urban</td>\n",
              "      <td>(min) 26</td>\n",
              "    </tr>\n",
              "    <tr>\n",
              "      <th>3</th>\n",
              "      <td>0x7a6a</td>\n",
              "      <td>COIMBRES13DEL02</td>\n",
              "      <td>38</td>\n",
              "      <td>4.7</td>\n",
              "      <td>11.003669</td>\n",
              "      <td>76.976494</td>\n",
              "      <td>11.053669</td>\n",
              "      <td>77.026494</td>\n",
              "      <td>05-04-2022</td>\n",
              "      <td>18:00:00</td>\n",
              "      <td>18:10:00</td>\n",
              "      <td>conditions Sunny</td>\n",
              "      <td>Medium</td>\n",
              "      <td>0</td>\n",
              "      <td>Buffet</td>\n",
              "      <td>motorcycle</td>\n",
              "      <td>1</td>\n",
              "      <td>No</td>\n",
              "      <td>Metropolitian</td>\n",
              "      <td>(min) 21</td>\n",
              "    </tr>\n",
              "    <tr>\n",
              "      <th>4</th>\n",
              "      <td>0x70a2</td>\n",
              "      <td>CHENRES12DEL01</td>\n",
              "      <td>32</td>\n",
              "      <td>4.6</td>\n",
              "      <td>12.972793</td>\n",
              "      <td>80.249982</td>\n",
              "      <td>13.012793</td>\n",
              "      <td>80.289982</td>\n",
              "      <td>26-03-2022</td>\n",
              "      <td>13:30:00</td>\n",
              "      <td>13:45:00</td>\n",
              "      <td>conditions Cloudy</td>\n",
              "      <td>High</td>\n",
              "      <td>1</td>\n",
              "      <td>Snack</td>\n",
              "      <td>scooter</td>\n",
              "      <td>1</td>\n",
              "      <td>No</td>\n",
              "      <td>Metropolitian</td>\n",
              "      <td>(min) 30</td>\n",
              "    </tr>\n",
              "  </tbody>\n",
              "</table>\n",
              "</div>"
            ],
            "text/plain": [
              "        ID Delivery_person_ID Delivery_person_Age Delivery_person_Ratings  \\\n",
              "0  0x4607     INDORES13DEL02                   37                     4.9   \n",
              "1  0xb379     BANGRES18DEL02                   34                     4.5   \n",
              "2  0x5d6d     BANGRES19DEL01                   23                     4.4   \n",
              "3  0x7a6a    COIMBRES13DEL02                   38                     4.7   \n",
              "4  0x70a2     CHENRES12DEL01                   32                     4.6   \n",
              "\n",
              "   Restaurant_latitude  Restaurant_longitude  Delivery_location_latitude  \\\n",
              "0            22.745049             75.892471                   22.765049   \n",
              "1            12.913041             77.683237                   13.043041   \n",
              "2            12.914264             77.678400                   12.924264   \n",
              "3            11.003669             76.976494                   11.053669   \n",
              "4            12.972793             80.249982                   13.012793   \n",
              "\n",
              "   Delivery_location_longitude  Order_Date Time_Orderd Time_Order_picked  \\\n",
              "0                    75.912471  19-03-2022    11:30:00          11:45:00   \n",
              "1                    77.813237  25-03-2022    19:45:00          19:50:00   \n",
              "2                    77.688400  19-03-2022    08:30:00          08:45:00   \n",
              "3                    77.026494  05-04-2022    18:00:00          18:10:00   \n",
              "4                    80.289982  26-03-2022    13:30:00          13:45:00   \n",
              "\n",
              "       Weatherconditions Road_traffic_density  Vehicle_condition  \\\n",
              "0       conditions Sunny                High                   2   \n",
              "1      conditions Stormy                 Jam                   2   \n",
              "2  conditions Sandstorms                 Low                   0   \n",
              "3       conditions Sunny              Medium                   0   \n",
              "4      conditions Cloudy                High                   1   \n",
              "\n",
              "  Type_of_order Type_of_vehicle multiple_deliveries Festival       City_type  \\\n",
              "0        Snack      motorcycle                    0      No           Urban    \n",
              "1        Snack         scooter                    1      No   Metropolitian    \n",
              "2       Drinks      motorcycle                    1      No           Urban    \n",
              "3       Buffet      motorcycle                    1      No   Metropolitian    \n",
              "4        Snack         scooter                    1      No   Metropolitian    \n",
              "\n",
              "  Time_taken(min)  \n",
              "0        (min) 24  \n",
              "1        (min) 33  \n",
              "2        (min) 26  \n",
              "3        (min) 21  \n",
              "4        (min) 30  "
            ]
          },
          "execution_count": 2,
          "metadata": {},
          "output_type": "execute_result"
        }
      ],
      "source": [
        "# Load and understand raw_data\n",
        "df = pd.read_csv(\"../dataset/raw_data.csv\")\n",
        "\n",
        "# Top 5 rows\n",
        "df.head()"
      ]
    },
    {
      "cell_type": "code",
      "execution_count": 3,
      "metadata": {
        "colab": {
          "base_uri": "https://localhost:8080/"
        },
        "id": "sOmHNQ5XlHuD",
        "outputId": "9078d50e-4614-4b28-f036-243c2dbebb35"
      },
      "outputs": [
        {
          "data": {
            "text/plain": [
              "Index(['ID', 'Delivery_person_ID', 'Delivery_person_Age',\n",
              "       'Delivery_person_Ratings', 'Restaurant_latitude',\n",
              "       'Restaurant_longitude', 'Delivery_location_latitude',\n",
              "       'Delivery_location_longitude', 'Order_Date', 'Time_Orderd',\n",
              "       'Time_Order_picked', 'Weatherconditions', 'Road_traffic_density',\n",
              "       'Vehicle_condition', 'Type_of_order', 'Type_of_vehicle',\n",
              "       'multiple_deliveries', 'Festival', 'City_type', 'Time_taken(min)'],\n",
              "      dtype='object')"
            ]
          },
          "execution_count": 3,
          "metadata": {},
          "output_type": "execute_result"
        }
      ],
      "source": [
        "# Columns of dataframe\n",
        "# Target variable (y) is Time_taken(min), also called predicted variable\n",
        "# Drop Time_taken(min) from df_train as it is target variable\n",
        "df.columns"
      ]
    },
    {
      "cell_type": "code",
      "execution_count": 4,
      "metadata": {
        "colab": {
          "base_uri": "https://localhost:8080/"
        },
        "id": "hCa9_TtHlHuE",
        "outputId": "ecdc237b-4a47-4e3f-f53e-4d3cda932ccf"
      },
      "outputs": [
        {
          "name": "stdout",
          "output_type": "stream",
          "text": [
            "Train Dataset : (45593, 20)\n"
          ]
        }
      ],
      "source": [
        "# Dimensions of the dataframe\n",
        "print(\"Train Dataset :\", df.shape)"
      ]
    },
    {
      "cell_type": "code",
      "execution_count": 5,
      "metadata": {
        "colab": {
          "base_uri": "https://localhost:8080/"
        },
        "id": "kI12O3sclHuE",
        "outputId": "5e58136b-a81d-4178-e1e6-638732a0200e"
      },
      "outputs": [
        {
          "name": "stdout",
          "output_type": "stream",
          "text": [
            "<class 'pandas.core.frame.DataFrame'>\n",
            "RangeIndex: 45593 entries, 0 to 45592\n",
            "Data columns (total 20 columns):\n",
            " #   Column                       Non-Null Count  Dtype  \n",
            "---  ------                       --------------  -----  \n",
            " 0   ID                           45593 non-null  object \n",
            " 1   Delivery_person_ID           45593 non-null  object \n",
            " 2   Delivery_person_Age          45593 non-null  object \n",
            " 3   Delivery_person_Ratings      45593 non-null  object \n",
            " 4   Restaurant_latitude          45593 non-null  float64\n",
            " 5   Restaurant_longitude         45593 non-null  float64\n",
            " 6   Delivery_location_latitude   45593 non-null  float64\n",
            " 7   Delivery_location_longitude  45593 non-null  float64\n",
            " 8   Order_Date                   45593 non-null  object \n",
            " 9   Time_Orderd                  45593 non-null  object \n",
            " 10  Time_Order_picked            45593 non-null  object \n",
            " 11  Weatherconditions            45593 non-null  object \n",
            " 12  Road_traffic_density         45593 non-null  object \n",
            " 13  Vehicle_condition            45593 non-null  int64  \n",
            " 14  Type_of_order                45593 non-null  object \n",
            " 15  Type_of_vehicle              45593 non-null  object \n",
            " 16  multiple_deliveries          45593 non-null  object \n",
            " 17  Festival                     45593 non-null  object \n",
            " 18  City_type                    45593 non-null  object \n",
            " 19  Time_taken(min)              45593 non-null  object \n",
            "dtypes: float64(4), int64(1), object(15)\n",
            "memory usage: 7.0+ MB\n"
          ]
        }
      ],
      "source": [
        "# Finding datatype of each column in dataframe\n",
        "df.info()"
      ]
    },
    {
      "cell_type": "markdown",
      "metadata": {
        "id": "Aw8zWnTblHuF"
      },
      "source": [
        "##### Summary statistics of numeric and non-numeric fields"
      ]
    },
    {
      "cell_type": "code",
      "execution_count": 6,
      "metadata": {
        "colab": {
          "base_uri": "https://localhost:8080/",
          "height": 206
        },
        "id": "JT3hd-WSlHuF",
        "outputId": "3982c3e7-b0c8-480c-a207-be1e19ba5045"
      },
      "outputs": [
        {
          "data": {
            "text/html": [
              "<div>\n",
              "<style scoped>\n",
              "    .dataframe tbody tr th:only-of-type {\n",
              "        vertical-align: middle;\n",
              "    }\n",
              "\n",
              "    .dataframe tbody tr th {\n",
              "        vertical-align: top;\n",
              "    }\n",
              "\n",
              "    .dataframe thead th {\n",
              "        text-align: right;\n",
              "    }\n",
              "</style>\n",
              "<table border=\"1\" class=\"dataframe\">\n",
              "  <thead>\n",
              "    <tr style=\"text-align: right;\">\n",
              "      <th></th>\n",
              "      <th>count</th>\n",
              "      <th>mean</th>\n",
              "      <th>std</th>\n",
              "      <th>min</th>\n",
              "      <th>25%</th>\n",
              "      <th>50%</th>\n",
              "      <th>75%</th>\n",
              "      <th>max</th>\n",
              "    </tr>\n",
              "  </thead>\n",
              "  <tbody>\n",
              "    <tr>\n",
              "      <th>Restaurant_latitude</th>\n",
              "      <td>45593.0</td>\n",
              "      <td>17.017729</td>\n",
              "      <td>8.185109</td>\n",
              "      <td>-30.905562</td>\n",
              "      <td>12.933284</td>\n",
              "      <td>18.546947</td>\n",
              "      <td>22.728163</td>\n",
              "      <td>30.914057</td>\n",
              "    </tr>\n",
              "    <tr>\n",
              "      <th>Restaurant_longitude</th>\n",
              "      <td>45593.0</td>\n",
              "      <td>70.231332</td>\n",
              "      <td>22.883647</td>\n",
              "      <td>-88.366217</td>\n",
              "      <td>73.170000</td>\n",
              "      <td>75.898497</td>\n",
              "      <td>78.044095</td>\n",
              "      <td>88.433452</td>\n",
              "    </tr>\n",
              "    <tr>\n",
              "      <th>Delivery_location_latitude</th>\n",
              "      <td>45593.0</td>\n",
              "      <td>17.465186</td>\n",
              "      <td>7.335122</td>\n",
              "      <td>0.010000</td>\n",
              "      <td>12.988453</td>\n",
              "      <td>18.633934</td>\n",
              "      <td>22.785049</td>\n",
              "      <td>31.054057</td>\n",
              "    </tr>\n",
              "    <tr>\n",
              "      <th>Delivery_location_longitude</th>\n",
              "      <td>45593.0</td>\n",
              "      <td>70.845702</td>\n",
              "      <td>21.118812</td>\n",
              "      <td>0.010000</td>\n",
              "      <td>73.280000</td>\n",
              "      <td>76.002574</td>\n",
              "      <td>78.107044</td>\n",
              "      <td>88.563452</td>\n",
              "    </tr>\n",
              "    <tr>\n",
              "      <th>Vehicle_condition</th>\n",
              "      <td>45593.0</td>\n",
              "      <td>1.023359</td>\n",
              "      <td>0.839065</td>\n",
              "      <td>0.000000</td>\n",
              "      <td>0.000000</td>\n",
              "      <td>1.000000</td>\n",
              "      <td>2.000000</td>\n",
              "      <td>3.000000</td>\n",
              "    </tr>\n",
              "  </tbody>\n",
              "</table>\n",
              "</div>"
            ],
            "text/plain": [
              "                               count       mean        std        min  \\\n",
              "Restaurant_latitude          45593.0  17.017729   8.185109 -30.905562   \n",
              "Restaurant_longitude         45593.0  70.231332  22.883647 -88.366217   \n",
              "Delivery_location_latitude   45593.0  17.465186   7.335122   0.010000   \n",
              "Delivery_location_longitude  45593.0  70.845702  21.118812   0.010000   \n",
              "Vehicle_condition            45593.0   1.023359   0.839065   0.000000   \n",
              "\n",
              "                                   25%        50%        75%        max  \n",
              "Restaurant_latitude          12.933284  18.546947  22.728163  30.914057  \n",
              "Restaurant_longitude         73.170000  75.898497  78.044095  88.433452  \n",
              "Delivery_location_latitude   12.988453  18.633934  22.785049  31.054057  \n",
              "Delivery_location_longitude  73.280000  76.002574  78.107044  88.563452  \n",
              "Vehicle_condition             0.000000   1.000000   2.000000   3.000000  "
            ]
          },
          "execution_count": 6,
          "metadata": {},
          "output_type": "execute_result"
        }
      ],
      "source": [
        "#Check statistical values for fields with numerical datatype\n",
        "df.describe().T"
      ]
    },
    {
      "cell_type": "code",
      "execution_count": 7,
      "metadata": {
        "colab": {
          "base_uri": "https://localhost:8080/",
          "height": 520
        },
        "id": "ZXAWA5TdlHuG",
        "outputId": "9fd14995-c16f-42c3-aff6-c3ed46f6be15"
      },
      "outputs": [
        {
          "data": {
            "text/html": [
              "<div>\n",
              "<style scoped>\n",
              "    .dataframe tbody tr th:only-of-type {\n",
              "        vertical-align: middle;\n",
              "    }\n",
              "\n",
              "    .dataframe tbody tr th {\n",
              "        vertical-align: top;\n",
              "    }\n",
              "\n",
              "    .dataframe thead th {\n",
              "        text-align: right;\n",
              "    }\n",
              "</style>\n",
              "<table border=\"1\" class=\"dataframe\">\n",
              "  <thead>\n",
              "    <tr style=\"text-align: right;\">\n",
              "      <th></th>\n",
              "      <th>count</th>\n",
              "      <th>unique</th>\n",
              "      <th>top</th>\n",
              "      <th>freq</th>\n",
              "    </tr>\n",
              "  </thead>\n",
              "  <tbody>\n",
              "    <tr>\n",
              "      <th>ID</th>\n",
              "      <td>45593</td>\n",
              "      <td>45593</td>\n",
              "      <td>0x4607</td>\n",
              "      <td>1</td>\n",
              "    </tr>\n",
              "    <tr>\n",
              "      <th>Delivery_person_ID</th>\n",
              "      <td>45593</td>\n",
              "      <td>1320</td>\n",
              "      <td>PUNERES01DEL01</td>\n",
              "      <td>67</td>\n",
              "    </tr>\n",
              "    <tr>\n",
              "      <th>Delivery_person_Age</th>\n",
              "      <td>45593</td>\n",
              "      <td>23</td>\n",
              "      <td>35</td>\n",
              "      <td>2262</td>\n",
              "    </tr>\n",
              "    <tr>\n",
              "      <th>Delivery_person_Ratings</th>\n",
              "      <td>45593</td>\n",
              "      <td>29</td>\n",
              "      <td>4.8</td>\n",
              "      <td>7148</td>\n",
              "    </tr>\n",
              "    <tr>\n",
              "      <th>Order_Date</th>\n",
              "      <td>45593</td>\n",
              "      <td>44</td>\n",
              "      <td>15-03-2022</td>\n",
              "      <td>1192</td>\n",
              "    </tr>\n",
              "    <tr>\n",
              "      <th>Time_Orderd</th>\n",
              "      <td>45593</td>\n",
              "      <td>177</td>\n",
              "      <td>NaN</td>\n",
              "      <td>1731</td>\n",
              "    </tr>\n",
              "    <tr>\n",
              "      <th>Time_Order_picked</th>\n",
              "      <td>45593</td>\n",
              "      <td>193</td>\n",
              "      <td>21:30:00</td>\n",
              "      <td>496</td>\n",
              "    </tr>\n",
              "    <tr>\n",
              "      <th>Weatherconditions</th>\n",
              "      <td>45593</td>\n",
              "      <td>7</td>\n",
              "      <td>conditions Fog</td>\n",
              "      <td>7654</td>\n",
              "    </tr>\n",
              "    <tr>\n",
              "      <th>Road_traffic_density</th>\n",
              "      <td>45593</td>\n",
              "      <td>5</td>\n",
              "      <td>Low</td>\n",
              "      <td>15477</td>\n",
              "    </tr>\n",
              "    <tr>\n",
              "      <th>Type_of_order</th>\n",
              "      <td>45593</td>\n",
              "      <td>4</td>\n",
              "      <td>Snack</td>\n",
              "      <td>11533</td>\n",
              "    </tr>\n",
              "    <tr>\n",
              "      <th>Type_of_vehicle</th>\n",
              "      <td>45593</td>\n",
              "      <td>4</td>\n",
              "      <td>motorcycle</td>\n",
              "      <td>26435</td>\n",
              "    </tr>\n",
              "    <tr>\n",
              "      <th>multiple_deliveries</th>\n",
              "      <td>45593</td>\n",
              "      <td>5</td>\n",
              "      <td>1</td>\n",
              "      <td>28159</td>\n",
              "    </tr>\n",
              "    <tr>\n",
              "      <th>Festival</th>\n",
              "      <td>45593</td>\n",
              "      <td>3</td>\n",
              "      <td>No</td>\n",
              "      <td>44469</td>\n",
              "    </tr>\n",
              "    <tr>\n",
              "      <th>City_type</th>\n",
              "      <td>45593</td>\n",
              "      <td>4</td>\n",
              "      <td>Metropolitian</td>\n",
              "      <td>34093</td>\n",
              "    </tr>\n",
              "    <tr>\n",
              "      <th>Time_taken(min)</th>\n",
              "      <td>45593</td>\n",
              "      <td>45</td>\n",
              "      <td>(min) 26</td>\n",
              "      <td>2123</td>\n",
              "    </tr>\n",
              "  </tbody>\n",
              "</table>\n",
              "</div>"
            ],
            "text/plain": [
              "                         count unique              top   freq\n",
              "ID                       45593  45593          0x4607       1\n",
              "Delivery_person_ID       45593   1320  PUNERES01DEL01      67\n",
              "Delivery_person_Age      45593     23               35   2262\n",
              "Delivery_person_Ratings  45593     29              4.8   7148\n",
              "Order_Date               45593     44       15-03-2022   1192\n",
              "Time_Orderd              45593    177             NaN    1731\n",
              "Time_Order_picked        45593    193         21:30:00    496\n",
              "Weatherconditions        45593      7   conditions Fog   7654\n",
              "Road_traffic_density     45593      5             Low   15477\n",
              "Type_of_order            45593      4           Snack   11533\n",
              "Type_of_vehicle          45593      4      motorcycle   26435\n",
              "multiple_deliveries      45593      5                1  28159\n",
              "Festival                 45593      3              No   44469\n",
              "City_type                45593      4   Metropolitian   34093\n",
              "Time_taken(min)          45593     45         (min) 26   2123"
            ]
          },
          "execution_count": 7,
          "metadata": {},
          "output_type": "execute_result"
        }
      ],
      "source": [
        "#Check statistical values for fields with other than numerical datatype\n",
        "df.describe(exclude=np.number).T"
      ]
    },
    {
      "cell_type": "markdown",
      "metadata": {
        "id": "AirUF6eslHuG"
      },
      "source": [
        "**Observations:**\n",
        "* There are null values present in Time_Orderd column. String \"Nan\" value.\n",
        "* Cannot directly do impute as it is \"hh:mm:ss\" format.\n",
        "* Difference of time_ordered and order_picked gives food_preparation_time.\n",
        "* Median of the food_preparation_time used as snacks require less time to make, other foods like buffet and meals takes more time.\n",
        "\n",
        "1. Data Formatting will be required for Weatherconditions & Time_taken(min) column.\n",
        "2. Both numerical & categorical features are present.\n",
        "3. ID & Delivery_person_ID will not be used to build the model."
      ]
    },
    {
      "cell_type": "markdown",
      "metadata": {
        "id": "0qD3e14JlHuH"
      },
      "source": [
        "##### **Data Cleaning**"
      ]
    },
    {
      "cell_type": "code",
      "execution_count": 8,
      "metadata": {
        "colab": {
          "base_uri": "https://localhost:8080/"
        },
        "id": "F48k7geKlHuH",
        "outputId": "643fda51-30a9-4013-c7de-f3d6d60c3bcb"
      },
      "outputs": [
        {
          "name": "stdout",
          "output_type": "stream",
          "text": [
            "Index(['ID', 'Delivery_person_ID', 'Delivery_person_Age',\n",
            "       'Delivery_person_Ratings', 'Restaurant_latitude',\n",
            "       'Restaurant_longitude', 'Delivery_location_latitude',\n",
            "       'Delivery_location_longitude', 'Order_Date', 'Time_Orderd',\n",
            "       'Time_Order_picked', 'Weather_conditions', 'Road_traffic_density',\n",
            "       'Vehicle_condition', 'Type_of_order', 'Type_of_vehicle',\n",
            "       'multiple_deliveries', 'Festival', 'City_type', 'Time_taken(min)'],\n",
            "      dtype='object')\n"
          ]
        }
      ],
      "source": [
        "# Update Column Names\n",
        "def update_column_name(df):\n",
        "    # Renaming Weatherconditions column\n",
        "    df.rename(columns={'Weatherconditions': 'Weather_conditions'},inplace=True)\n",
        "\n",
        "update_column_name(df)\n",
        "print(df.columns)"
      ]
    },
    {
      "cell_type": "code",
      "execution_count": 9,
      "metadata": {
        "colab": {
          "base_uri": "https://localhost:8080/",
          "height": 206
        },
        "id": "ST_lvKaBlHuH",
        "outputId": "065a440f-db62-4074-ae0f-3fc7511b6594"
      },
      "outputs": [
        {
          "data": {
            "text/html": [
              "<div>\n",
              "<style scoped>\n",
              "    .dataframe tbody tr th:only-of-type {\n",
              "        vertical-align: middle;\n",
              "    }\n",
              "\n",
              "    .dataframe tbody tr th {\n",
              "        vertical-align: top;\n",
              "    }\n",
              "\n",
              "    .dataframe thead th {\n",
              "        text-align: right;\n",
              "    }\n",
              "</style>\n",
              "<table border=\"1\" class=\"dataframe\">\n",
              "  <thead>\n",
              "    <tr style=\"text-align: right;\">\n",
              "      <th></th>\n",
              "      <th>Time_taken(min)</th>\n",
              "      <th>Weather_conditions</th>\n",
              "      <th>City_code</th>\n",
              "    </tr>\n",
              "  </thead>\n",
              "  <tbody>\n",
              "    <tr>\n",
              "      <th>0</th>\n",
              "      <td>24</td>\n",
              "      <td>Sunny</td>\n",
              "      <td>INDO</td>\n",
              "    </tr>\n",
              "    <tr>\n",
              "      <th>1</th>\n",
              "      <td>33</td>\n",
              "      <td>Stormy</td>\n",
              "      <td>BANG</td>\n",
              "    </tr>\n",
              "    <tr>\n",
              "      <th>2</th>\n",
              "      <td>26</td>\n",
              "      <td>Sandstorms</td>\n",
              "      <td>BANG</td>\n",
              "    </tr>\n",
              "    <tr>\n",
              "      <th>3</th>\n",
              "      <td>21</td>\n",
              "      <td>Sunny</td>\n",
              "      <td>COIMB</td>\n",
              "    </tr>\n",
              "    <tr>\n",
              "      <th>4</th>\n",
              "      <td>30</td>\n",
              "      <td>Cloudy</td>\n",
              "      <td>CHEN</td>\n",
              "    </tr>\n",
              "  </tbody>\n",
              "</table>\n",
              "</div>"
            ],
            "text/plain": [
              "   Time_taken(min) Weather_conditions City_code\n",
              "0               24              Sunny      INDO\n",
              "1               33             Stormy      BANG\n",
              "2               26         Sandstorms      BANG\n",
              "3               21              Sunny     COIMB\n",
              "4               30             Cloudy      CHEN"
            ]
          },
          "execution_count": 9,
          "metadata": {},
          "output_type": "execute_result"
        }
      ],
      "source": [
        "# Extract relevant values from column\n",
        "\n",
        "def extract_column_value(df):\n",
        "    '''\n",
        "    Remove \"min\" string from target variable and get numerical target\n",
        "    '''\n",
        "    # Extract time and convert to int\n",
        "    df['Time_taken(min)'] = df['Time_taken(min)'].apply(lambda x: int(x.split(' ')[1].strip()))\n",
        "\n",
        "\n",
        "    # Extract Weather conditions\n",
        "    df['Weather_conditions'] = df['Weather_conditions'].apply(lambda x: x.split(' ')[1].strip())\n",
        "\n",
        "    # Extract city code from Delivery person ID\n",
        "    df['City_code'] = df['Delivery_person_ID'].str.split(\"RES\", expand=True)[0]\n",
        "\n",
        "extract_column_value(df)\n",
        "df[['Time_taken(min)','Weather_conditions','City_code']].head()"
      ]
    },
    {
      "cell_type": "code",
      "execution_count": 10,
      "metadata": {
        "colab": {
          "base_uri": "https://localhost:8080/"
        },
        "id": "gztGlMUnWUsC",
        "outputId": "7fb3dcbb-0bd9-42e8-fe4e-63dd1995c421"
      },
      "outputs": [
        {
          "name": "stdout",
          "output_type": "stream",
          "text": [
            "Weather_conditions : ['Sunny', 'Stormy', 'Sandstorms', 'Cloudy', 'Fog', 'Windy', 'NaN']\n",
            "Road_traffic_density : ['High ', 'Jam ', 'Low ', 'Medium ', 'NaN ']\n",
            "Vehicle_condition : [2, 0, 1, 3]\n",
            "Type_of_order : ['Snack ', 'Drinks ', 'Buffet ', 'Meal ']\n",
            "Type_of_vehicle : ['motorcycle ', 'scooter ', 'electric_scooter ', 'bicycle ']\n",
            "multiple_deliveries : ['0', '1', '3', 'NaN ', '2']\n",
            "Festival : ['No ', 'Yes ', 'NaN ']\n",
            "City_type : ['Urban ', 'Metropolitian ', 'Semi-Urban ', 'NaN ']\n"
          ]
        }
      ],
      "source": [
        "# Unique values of some categorical columns of df_train\n",
        "columns = ['Weather_conditions', 'Road_traffic_density',\n",
        "       'Vehicle_condition', 'Type_of_order', 'Type_of_vehicle',\n",
        "      'multiple_deliveries', 'Festival', 'City_type']\n",
        "\n",
        "for column in columns:\n",
        "    unique_values = df[column].unique().tolist()\n",
        "    print(column, \":\", unique_values)"
      ]
    },
    {
      "cell_type": "code",
      "execution_count": 11,
      "metadata": {
        "colab": {
          "base_uri": "https://localhost:8080/"
        },
        "id": "X8hpAm72lHuI",
        "outputId": "4e2399da-4c92-45f2-8a18-a3f9dadd00d3"
      },
      "outputs": [
        {
          "name": "stdout",
          "output_type": "stream",
          "text": [
            "Before No. of columns:  21\n",
            "After No. of columns:  19\n",
            "\n",
            "There is no duplicate value present\n"
          ]
        }
      ],
      "source": [
        "# Drop Columns which won't be use for building model\n",
        "def drop_columns(df):\n",
        "    df.drop(['ID','Delivery_person_ID'],axis=1,inplace=True)\n",
        "\n",
        "print(\"Before No. of columns: \",df.shape[1])\n",
        "drop_columns(df)\n",
        "print(\"After No. of columns: \",df.shape[1])\n",
        "\n",
        "#Check for Duplicate Values\n",
        "if (len(df[df.duplicated()])>0):\n",
        "    print(\"\\nThere are Duplicate values present\")\n",
        "else:\n",
        "    print(\"\\nThere is no duplicate value present\")"
      ]
    },
    {
      "cell_type": "code",
      "execution_count": 12,
      "metadata": {
        "id": "oHOCdomPlHuI"
      },
      "outputs": [],
      "source": [
        "# Update datatypes\n",
        "def update_datatype(df):\n",
        "    df['Delivery_person_Age'] = df['Delivery_person_Age'].astype('float64')\n",
        "    df['Delivery_person_Ratings'] = df['Delivery_person_Ratings'].astype('float64')\n",
        "    df['multiple_deliveries'] = df['multiple_deliveries'].astype('float64')\n",
        "    df['Order_Date']=pd.to_datetime(df['Order_Date'],format=\"%d-%m-%Y\")\n",
        "\n",
        "update_datatype(df)"
      ]
    },
    {
      "cell_type": "code",
      "execution_count": 13,
      "metadata": {
        "id": "Brl1TgCjlHuI"
      },
      "outputs": [],
      "source": [
        "# Convert String 'NaN' to np.nan\n",
        "'''\n",
        "It seems \"NaN\" strings have a space after them, convert both \"NaN \" and \"NaN\" to object Null values\n",
        "So, we use regex approach.\n",
        "'''\n",
        "\n",
        "def convert_nan(df):\n",
        "    df.replace('NaN', float(np.nan), regex=True,inplace=True)\n",
        "\n",
        "convert_nan(df)"
      ]
    },
    {
      "cell_type": "code",
      "execution_count": 14,
      "metadata": {
        "colab": {
          "base_uri": "https://localhost:8080/"
        },
        "id": "Aaq43DfSlHuJ",
        "outputId": "c43476e3-e05e-422d-9b19-5b8dd5774969"
      },
      "outputs": [
        {
          "data": {
            "text/plain": [
              "Delivery_person_Ratings        1908\n",
              "Delivery_person_Age            1854\n",
              "Time_Orderd                    1731\n",
              "City_type                      1200\n",
              "multiple_deliveries             993\n",
              "Weather_conditions              616\n",
              "Road_traffic_density            601\n",
              "Festival                        228\n",
              "Order_Date                        0\n",
              "Delivery_location_longitude       0\n",
              "Time_Order_picked                 0\n",
              "Delivery_location_latitude        0\n",
              "Vehicle_condition                 0\n",
              "Type_of_order                     0\n",
              "Type_of_vehicle                   0\n",
              "Restaurant_longitude              0\n",
              "Restaurant_latitude               0\n",
              "Time_taken(min)                   0\n",
              "City_code                         0\n",
              "dtype: int64"
            ]
          },
          "execution_count": 14,
          "metadata": {},
          "output_type": "execute_result"
        }
      ],
      "source": [
        "# Check null values\n",
        "df.isnull().sum().sort_values(ascending=False)"
      ]
    },
    {
      "cell_type": "code",
      "execution_count": 15,
      "metadata": {},
      "outputs": [
        {
          "data": {
            "text/plain": [
              "Delivery_person_Age              0\n",
              "Delivery_person_Ratings          0\n",
              "Restaurant_latitude              0\n",
              "Restaurant_longitude             0\n",
              "Delivery_location_latitude       0\n",
              "Delivery_location_longitude      0\n",
              "Order_Date                       0\n",
              "Time_Orderd                      0\n",
              "Time_Order_picked                0\n",
              "Weather_conditions             616\n",
              "Road_traffic_density             0\n",
              "Vehicle_condition                0\n",
              "Type_of_order                    0\n",
              "Type_of_vehicle                  0\n",
              "multiple_deliveries              0\n",
              "Festival                         0\n",
              "City_type                        0\n",
              "Time_taken(min)                  0\n",
              "City_code                        0\n",
              "dtype: int64"
            ]
          },
          "execution_count": 15,
          "metadata": {},
          "output_type": "execute_result"
        }
      ],
      "source": [
        "# Handle null values\n",
        "def handle_null_values(df):\n",
        "    df['Delivery_person_Age'].fillna(np.random.choice(df['Delivery_person_Age']), inplace=True)    # Names chosen randomly\n",
        "    df['Weather_conditions'].fillna(np.random.choice(df['Weather_conditions']), inplace=True)      # weather chosen randomly\n",
        "\n",
        "    mode_imp = SimpleImputer(missing_values=np.nan, strategy='most_frequent')                      # Filled with the most common value\n",
        "    mode_cols = [\"Road_traffic_density\",\n",
        "             \"multiple_deliveries\", \"Festival\", \"City_type\"]\n",
        "\n",
        "    for col in mode_cols:\n",
        "        df[col] = mode_imp.fit_transform(df[col].to_numpy().reshape(-1,1)).ravel()\n",
        "\n",
        "    # Mean is affected by extreme values, mode gives highest frequency which is inappropriate\n",
        "    # So, median is appropriate measure for imputing\n",
        "    df['Delivery_person_Ratings'].fillna(df['Delivery_person_Ratings'].median(), inplace=True)\n",
        "\n",
        "    df[\"Time_Orderd\"] = df[\"Time_Orderd\"].fillna(df[\"Time_Order_picked\"])\n",
        "\n",
        "handle_null_values(df)\n",
        "df.isnull().sum()"
      ]
    },
    {
      "cell_type": "code",
      "execution_count": 16,
      "metadata": {},
      "outputs": [],
      "source": [
        "df.to_csv(\"../dataset/data_cleaned.csv\")"
      ]
    }
  ],
  "metadata": {
    "colab": {
      "provenance": [],
      "toc_visible": true
    },
    "kernelspec": {
      "display_name": "Python 3",
      "name": "python3"
    },
    "language_info": {
      "codemirror_mode": {
        "name": "ipython",
        "version": 3
      },
      "file_extension": ".py",
      "mimetype": "text/x-python",
      "name": "python",
      "nbconvert_exporter": "python",
      "pygments_lexer": "ipython3",
      "version": "3.11.4"
    }
  },
  "nbformat": 4,
  "nbformat_minor": 0
}
