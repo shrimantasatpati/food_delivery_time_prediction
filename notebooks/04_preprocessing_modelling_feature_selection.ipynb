{
  "cells": [
    {
      "cell_type": "markdown",
      "metadata": {
        "id": "KlWPlTA8lHt7"
      },
      "source": [
        "##### Importing libraries"
      ]
    },
    {
      "cell_type": "code",
      "execution_count": 1,
      "metadata": {
        "id": "BqoOj6RflHt_"
      },
      "outputs": [],
      "source": [
        "# Required libraries\n",
        "import numpy as np\n",
        "import pandas as pd\n",
        "import matplotlib.pyplot as plt\n",
        "\n",
        "# Scikit-Learn libraries and others\n",
        "from sklearn.model_selection import train_test_split,cross_val_score, GridSearchCV\n",
        "from sklearn.preprocessing import LabelEncoder,StandardScaler\n",
        "from sklearn.linear_model import LinearRegression\n",
        "from sklearn.tree import DecisionTreeRegressor\n",
        "from sklearn.ensemble import RandomForestRegressor\n",
        "import xgboost as xgb\n",
        "from sklearn.metrics import mean_squared_error, r2_score, mean_absolute_error\n",
        "\n",
        "# Filter and ignore warnings\n",
        "import warnings\n",
        "warnings.filterwarnings('ignore')"
      ]
    },
    {
      "cell_type": "code",
      "execution_count": 2,
      "metadata": {
        "colab": {
          "base_uri": "https://localhost:8080/",
          "height": 244
        },
        "id": "lpF14SPIlHuC",
        "outputId": "3b732425-b314-41bc-be15-97718fa9f320"
      },
      "outputs": [
        {
          "data": {
            "text/html": [
              "<div>\n",
              "<style scoped>\n",
              "    .dataframe tbody tr th:only-of-type {\n",
              "        vertical-align: middle;\n",
              "    }\n",
              "\n",
              "    .dataframe tbody tr th {\n",
              "        vertical-align: top;\n",
              "    }\n",
              "\n",
              "    .dataframe thead th {\n",
              "        text-align: right;\n",
              "    }\n",
              "</style>\n",
              "<table border=\"1\" class=\"dataframe\">\n",
              "  <thead>\n",
              "    <tr style=\"text-align: right;\">\n",
              "      <th></th>\n",
              "      <th>Delivery_person_Age</th>\n",
              "      <th>Delivery_person_Ratings</th>\n",
              "      <th>Restaurant_latitude</th>\n",
              "      <th>Restaurant_longitude</th>\n",
              "      <th>Delivery_location_latitude</th>\n",
              "      <th>Delivery_location_longitude</th>\n",
              "      <th>Weather_conditions</th>\n",
              "      <th>Road_traffic_density</th>\n",
              "      <th>Vehicle_condition</th>\n",
              "      <th>Type_of_order</th>\n",
              "      <th>...</th>\n",
              "      <th>multiple_deliveries</th>\n",
              "      <th>Festival</th>\n",
              "      <th>City_type</th>\n",
              "      <th>Time_taken(min)</th>\n",
              "      <th>City_code</th>\n",
              "      <th>is_weekend</th>\n",
              "      <th>month_intervals</th>\n",
              "      <th>year_quarter</th>\n",
              "      <th>order_prepare_time</th>\n",
              "      <th>distance</th>\n",
              "    </tr>\n",
              "  </thead>\n",
              "  <tbody>\n",
              "    <tr>\n",
              "      <th>0</th>\n",
              "      <td>37.0</td>\n",
              "      <td>4.9</td>\n",
              "      <td>22.745049</td>\n",
              "      <td>75.892471</td>\n",
              "      <td>22.765049</td>\n",
              "      <td>75.912471</td>\n",
              "      <td>Sunny</td>\n",
              "      <td>High</td>\n",
              "      <td>2</td>\n",
              "      <td>Snack</td>\n",
              "      <td>...</td>\n",
              "      <td>0.0</td>\n",
              "      <td>No</td>\n",
              "      <td>Urban</td>\n",
              "      <td>24</td>\n",
              "      <td>INDO</td>\n",
              "      <td>True</td>\n",
              "      <td>middle_month</td>\n",
              "      <td>1</td>\n",
              "      <td>15.0</td>\n",
              "      <td>2</td>\n",
              "    </tr>\n",
              "    <tr>\n",
              "      <th>1</th>\n",
              "      <td>34.0</td>\n",
              "      <td>4.5</td>\n",
              "      <td>12.913041</td>\n",
              "      <td>77.683237</td>\n",
              "      <td>13.043041</td>\n",
              "      <td>77.813237</td>\n",
              "      <td>Stormy</td>\n",
              "      <td>Jam</td>\n",
              "      <td>2</td>\n",
              "      <td>Snack</td>\n",
              "      <td>...</td>\n",
              "      <td>1.0</td>\n",
              "      <td>No</td>\n",
              "      <td>Metropolitian</td>\n",
              "      <td>33</td>\n",
              "      <td>BANG</td>\n",
              "      <td>False</td>\n",
              "      <td>end_month</td>\n",
              "      <td>1</td>\n",
              "      <td>5.0</td>\n",
              "      <td>14</td>\n",
              "    </tr>\n",
              "    <tr>\n",
              "      <th>2</th>\n",
              "      <td>23.0</td>\n",
              "      <td>4.4</td>\n",
              "      <td>12.914264</td>\n",
              "      <td>77.678400</td>\n",
              "      <td>12.924264</td>\n",
              "      <td>77.688400</td>\n",
              "      <td>Sandstorms</td>\n",
              "      <td>Low</td>\n",
              "      <td>0</td>\n",
              "      <td>Drinks</td>\n",
              "      <td>...</td>\n",
              "      <td>1.0</td>\n",
              "      <td>No</td>\n",
              "      <td>Urban</td>\n",
              "      <td>26</td>\n",
              "      <td>BANG</td>\n",
              "      <td>True</td>\n",
              "      <td>middle_month</td>\n",
              "      <td>1</td>\n",
              "      <td>15.0</td>\n",
              "      <td>1</td>\n",
              "    </tr>\n",
              "    <tr>\n",
              "      <th>3</th>\n",
              "      <td>38.0</td>\n",
              "      <td>4.7</td>\n",
              "      <td>11.003669</td>\n",
              "      <td>76.976494</td>\n",
              "      <td>11.053669</td>\n",
              "      <td>77.026494</td>\n",
              "      <td>Sunny</td>\n",
              "      <td>Medium</td>\n",
              "      <td>0</td>\n",
              "      <td>Buffet</td>\n",
              "      <td>...</td>\n",
              "      <td>1.0</td>\n",
              "      <td>No</td>\n",
              "      <td>Metropolitian</td>\n",
              "      <td>21</td>\n",
              "      <td>COIMB</td>\n",
              "      <td>False</td>\n",
              "      <td>start_month</td>\n",
              "      <td>2</td>\n",
              "      <td>10.0</td>\n",
              "      <td>5</td>\n",
              "    </tr>\n",
              "    <tr>\n",
              "      <th>4</th>\n",
              "      <td>32.0</td>\n",
              "      <td>4.6</td>\n",
              "      <td>12.972793</td>\n",
              "      <td>80.249982</td>\n",
              "      <td>13.012793</td>\n",
              "      <td>80.289982</td>\n",
              "      <td>Cloudy</td>\n",
              "      <td>High</td>\n",
              "      <td>1</td>\n",
              "      <td>Snack</td>\n",
              "      <td>...</td>\n",
              "      <td>1.0</td>\n",
              "      <td>No</td>\n",
              "      <td>Metropolitian</td>\n",
              "      <td>30</td>\n",
              "      <td>CHEN</td>\n",
              "      <td>True</td>\n",
              "      <td>end_month</td>\n",
              "      <td>1</td>\n",
              "      <td>15.0</td>\n",
              "      <td>4</td>\n",
              "    </tr>\n",
              "  </tbody>\n",
              "</table>\n",
              "<p>5 rows × 21 columns</p>\n",
              "</div>"
            ],
            "text/plain": [
              "   Delivery_person_Age  Delivery_person_Ratings  Restaurant_latitude  \\\n",
              "0                 37.0                      4.9            22.745049   \n",
              "1                 34.0                      4.5            12.913041   \n",
              "2                 23.0                      4.4            12.914264   \n",
              "3                 38.0                      4.7            11.003669   \n",
              "4                 32.0                      4.6            12.972793   \n",
              "\n",
              "   Restaurant_longitude  Delivery_location_latitude  \\\n",
              "0             75.892471                   22.765049   \n",
              "1             77.683237                   13.043041   \n",
              "2             77.678400                   12.924264   \n",
              "3             76.976494                   11.053669   \n",
              "4             80.249982                   13.012793   \n",
              "\n",
              "   Delivery_location_longitude Weather_conditions Road_traffic_density  \\\n",
              "0                    75.912471              Sunny                High    \n",
              "1                    77.813237             Stormy                 Jam    \n",
              "2                    77.688400         Sandstorms                 Low    \n",
              "3                    77.026494              Sunny              Medium    \n",
              "4                    80.289982             Cloudy                High    \n",
              "\n",
              "   Vehicle_condition Type_of_order  ... multiple_deliveries  Festival  \\\n",
              "0                  2        Snack   ...                 0.0       No    \n",
              "1                  2        Snack   ...                 1.0       No    \n",
              "2                  0       Drinks   ...                 1.0       No    \n",
              "3                  0       Buffet   ...                 1.0       No    \n",
              "4                  1        Snack   ...                 1.0       No    \n",
              "\n",
              "        City_type Time_taken(min)  City_code is_weekend  month_intervals  \\\n",
              "0          Urban               24       INDO       True     middle_month   \n",
              "1  Metropolitian               33       BANG      False        end_month   \n",
              "2          Urban               26       BANG       True     middle_month   \n",
              "3  Metropolitian               21      COIMB      False      start_month   \n",
              "4  Metropolitian               30       CHEN       True        end_month   \n",
              "\n",
              "  year_quarter  order_prepare_time  distance  \n",
              "0            1                15.0         2  \n",
              "1            1                 5.0        14  \n",
              "2            1                15.0         1  \n",
              "3            2                10.0         5  \n",
              "4            1                15.0         4  \n",
              "\n",
              "[5 rows x 21 columns]"
            ]
          },
          "execution_count": 2,
          "metadata": {},
          "output_type": "execute_result"
        }
      ],
      "source": [
        "# Load & Understand df_train\n",
        "df = pd.read_csv(\"../dataset/data_after_feature_engineering.csv\", index_col = 0)\n",
        "df.head()"
      ]
    },
    {
      "cell_type": "markdown",
      "metadata": {
        "id": "O42CoIzolHuN"
      },
      "source": [
        "##### **Data Preprocessing**"
      ]
    },
    {
      "cell_type": "markdown",
      "metadata": {
        "id": "qAhC5ET8lHuN"
      },
      "source": [
        "##### Label Encoding"
      ]
    },
    {
      "cell_type": "code",
      "execution_count": 3,
      "metadata": {
        "colab": {
          "base_uri": "https://localhost:8080/",
          "height": 256
        },
        "id": "yV700nNUlHuN",
        "outputId": "43bfa3b1-4a3a-4279-981e-1ae1c3fe4f0c"
      },
      "outputs": [
        {
          "data": {
            "text/html": [
              "<div>\n",
              "<style scoped>\n",
              "    .dataframe tbody tr th:only-of-type {\n",
              "        vertical-align: middle;\n",
              "    }\n",
              "\n",
              "    .dataframe tbody tr th {\n",
              "        vertical-align: top;\n",
              "    }\n",
              "\n",
              "    .dataframe thead th {\n",
              "        text-align: right;\n",
              "    }\n",
              "</style>\n",
              "<table border=\"1\" class=\"dataframe\">\n",
              "  <thead>\n",
              "    <tr style=\"text-align: right;\">\n",
              "      <th></th>\n",
              "      <th>Delivery_person_Age</th>\n",
              "      <th>Delivery_person_Ratings</th>\n",
              "      <th>Restaurant_latitude</th>\n",
              "      <th>Restaurant_longitude</th>\n",
              "      <th>Delivery_location_latitude</th>\n",
              "      <th>Delivery_location_longitude</th>\n",
              "      <th>Weather_conditions</th>\n",
              "      <th>Road_traffic_density</th>\n",
              "      <th>Vehicle_condition</th>\n",
              "      <th>Type_of_order</th>\n",
              "      <th>...</th>\n",
              "      <th>multiple_deliveries</th>\n",
              "      <th>Festival</th>\n",
              "      <th>City_type</th>\n",
              "      <th>Time_taken(min)</th>\n",
              "      <th>City_code</th>\n",
              "      <th>is_weekend</th>\n",
              "      <th>month_intervals</th>\n",
              "      <th>year_quarter</th>\n",
              "      <th>order_prepare_time</th>\n",
              "      <th>distance</th>\n",
              "    </tr>\n",
              "  </thead>\n",
              "  <tbody>\n",
              "    <tr>\n",
              "      <th>0</th>\n",
              "      <td>37.0</td>\n",
              "      <td>4.9</td>\n",
              "      <td>22.745049</td>\n",
              "      <td>75.892471</td>\n",
              "      <td>22.765049</td>\n",
              "      <td>75.912471</td>\n",
              "      <td>4</td>\n",
              "      <td>0</td>\n",
              "      <td>2</td>\n",
              "      <td>3</td>\n",
              "      <td>...</td>\n",
              "      <td>0.0</td>\n",
              "      <td>0</td>\n",
              "      <td>2</td>\n",
              "      <td>24</td>\n",
              "      <td>10</td>\n",
              "      <td>True</td>\n",
              "      <td>1</td>\n",
              "      <td>1</td>\n",
              "      <td>15.0</td>\n",
              "      <td>2</td>\n",
              "    </tr>\n",
              "    <tr>\n",
              "      <th>1</th>\n",
              "      <td>34.0</td>\n",
              "      <td>4.5</td>\n",
              "      <td>12.913041</td>\n",
              "      <td>77.683237</td>\n",
              "      <td>13.043041</td>\n",
              "      <td>77.813237</td>\n",
              "      <td>3</td>\n",
              "      <td>1</td>\n",
              "      <td>2</td>\n",
              "      <td>3</td>\n",
              "      <td>...</td>\n",
              "      <td>1.0</td>\n",
              "      <td>0</td>\n",
              "      <td>0</td>\n",
              "      <td>33</td>\n",
              "      <td>3</td>\n",
              "      <td>False</td>\n",
              "      <td>0</td>\n",
              "      <td>1</td>\n",
              "      <td>5.0</td>\n",
              "      <td>14</td>\n",
              "    </tr>\n",
              "    <tr>\n",
              "      <th>2</th>\n",
              "      <td>23.0</td>\n",
              "      <td>4.4</td>\n",
              "      <td>12.914264</td>\n",
              "      <td>77.678400</td>\n",
              "      <td>12.924264</td>\n",
              "      <td>77.688400</td>\n",
              "      <td>2</td>\n",
              "      <td>2</td>\n",
              "      <td>0</td>\n",
              "      <td>1</td>\n",
              "      <td>...</td>\n",
              "      <td>1.0</td>\n",
              "      <td>0</td>\n",
              "      <td>2</td>\n",
              "      <td>26</td>\n",
              "      <td>3</td>\n",
              "      <td>True</td>\n",
              "      <td>1</td>\n",
              "      <td>1</td>\n",
              "      <td>15.0</td>\n",
              "      <td>1</td>\n",
              "    </tr>\n",
              "    <tr>\n",
              "      <th>3</th>\n",
              "      <td>38.0</td>\n",
              "      <td>4.7</td>\n",
              "      <td>11.003669</td>\n",
              "      <td>76.976494</td>\n",
              "      <td>11.053669</td>\n",
              "      <td>77.026494</td>\n",
              "      <td>4</td>\n",
              "      <td>3</td>\n",
              "      <td>0</td>\n",
              "      <td>0</td>\n",
              "      <td>...</td>\n",
              "      <td>1.0</td>\n",
              "      <td>0</td>\n",
              "      <td>0</td>\n",
              "      <td>21</td>\n",
              "      <td>6</td>\n",
              "      <td>False</td>\n",
              "      <td>2</td>\n",
              "      <td>2</td>\n",
              "      <td>10.0</td>\n",
              "      <td>5</td>\n",
              "    </tr>\n",
              "    <tr>\n",
              "      <th>4</th>\n",
              "      <td>32.0</td>\n",
              "      <td>4.6</td>\n",
              "      <td>12.972793</td>\n",
              "      <td>80.249982</td>\n",
              "      <td>13.012793</td>\n",
              "      <td>80.289982</td>\n",
              "      <td>0</td>\n",
              "      <td>0</td>\n",
              "      <td>1</td>\n",
              "      <td>3</td>\n",
              "      <td>...</td>\n",
              "      <td>1.0</td>\n",
              "      <td>0</td>\n",
              "      <td>0</td>\n",
              "      <td>30</td>\n",
              "      <td>5</td>\n",
              "      <td>True</td>\n",
              "      <td>0</td>\n",
              "      <td>1</td>\n",
              "      <td>15.0</td>\n",
              "      <td>4</td>\n",
              "    </tr>\n",
              "  </tbody>\n",
              "</table>\n",
              "<p>5 rows × 21 columns</p>\n",
              "</div>"
            ],
            "text/plain": [
              "   Delivery_person_Age  Delivery_person_Ratings  Restaurant_latitude  \\\n",
              "0                 37.0                      4.9            22.745049   \n",
              "1                 34.0                      4.5            12.913041   \n",
              "2                 23.0                      4.4            12.914264   \n",
              "3                 38.0                      4.7            11.003669   \n",
              "4                 32.0                      4.6            12.972793   \n",
              "\n",
              "   Restaurant_longitude  Delivery_location_latitude  \\\n",
              "0             75.892471                   22.765049   \n",
              "1             77.683237                   13.043041   \n",
              "2             77.678400                   12.924264   \n",
              "3             76.976494                   11.053669   \n",
              "4             80.249982                   13.012793   \n",
              "\n",
              "   Delivery_location_longitude  Weather_conditions  Road_traffic_density  \\\n",
              "0                    75.912471                   4                     0   \n",
              "1                    77.813237                   3                     1   \n",
              "2                    77.688400                   2                     2   \n",
              "3                    77.026494                   4                     3   \n",
              "4                    80.289982                   0                     0   \n",
              "\n",
              "   Vehicle_condition  Type_of_order  ...  multiple_deliveries  Festival  \\\n",
              "0                  2              3  ...                  0.0         0   \n",
              "1                  2              3  ...                  1.0         0   \n",
              "2                  0              1  ...                  1.0         0   \n",
              "3                  0              0  ...                  1.0         0   \n",
              "4                  1              3  ...                  1.0         0   \n",
              "\n",
              "   City_type  Time_taken(min)  City_code  is_weekend  month_intervals  \\\n",
              "0          2               24         10        True                1   \n",
              "1          0               33          3       False                0   \n",
              "2          2               26          3        True                1   \n",
              "3          0               21          6       False                2   \n",
              "4          0               30          5        True                0   \n",
              "\n",
              "   year_quarter  order_prepare_time  distance  \n",
              "0             1                15.0         2  \n",
              "1             1                 5.0        14  \n",
              "2             1                15.0         1  \n",
              "3             2                10.0         5  \n",
              "4             1                15.0         4  \n",
              "\n",
              "[5 rows x 21 columns]"
            ]
          },
          "execution_count": 3,
          "metadata": {},
          "output_type": "execute_result"
        }
      ],
      "source": [
        "def label_encoding(df):\n",
        "    categorical_columns = df.select_dtypes(include='object').columns\n",
        "    label_encoder = LabelEncoder()\n",
        "    df[categorical_columns] = df[categorical_columns].apply(lambda col: label_encoder.fit_transform(col))\n",
        "\n",
        "label_encoding(df)\n",
        "df.head()"
      ]
    },
    {
      "cell_type": "code",
      "execution_count": 4,
      "metadata": {
        "colab": {
          "base_uri": "https://localhost:8080/"
        },
        "id": "lJ_bLwM8zZML",
        "outputId": "0d7ba527-c367-4255-a68f-b1916d8669bf"
      },
      "outputs": [
        {
          "data": {
            "text/plain": [
              "Index(['Delivery_person_Age', 'Delivery_person_Ratings', 'Restaurant_latitude',\n",
              "       'Restaurant_longitude', 'Delivery_location_latitude',\n",
              "       'Delivery_location_longitude', 'Weather_conditions',\n",
              "       'Road_traffic_density', 'Vehicle_condition', 'Type_of_order',\n",
              "       'Type_of_vehicle', 'multiple_deliveries', 'Festival', 'City_type',\n",
              "       'Time_taken(min)', 'City_code', 'is_weekend', 'month_intervals',\n",
              "       'year_quarter', 'order_prepare_time', 'distance'],\n",
              "      dtype='object')"
            ]
          },
          "execution_count": 4,
          "metadata": {},
          "output_type": "execute_result"
        }
      ],
      "source": [
        "df.columns"
      ]
    },
    {
      "cell_type": "markdown",
      "metadata": {
        "id": "4ld629sk2qso"
      },
      "source": [
        "**To see the column indices in RFE, FFS**"
      ]
    },
    {
      "cell_type": "code",
      "execution_count": 5,
      "metadata": {
        "colab": {
          "base_uri": "https://localhost:8080/"
        },
        "id": "OGjap4TQz-6S",
        "outputId": "6140e6ed-fda7-4237-9650-cd1012c3b65c"
      },
      "outputs": [
        {
          "data": {
            "text/plain": [
              "{'Delivery_person_Age': 0,\n",
              " 'Delivery_person_Ratings': 1,\n",
              " 'Restaurant_latitude': 2,\n",
              " 'Restaurant_longitude': 3,\n",
              " 'Delivery_location_latitude': 4,\n",
              " 'Delivery_location_longitude': 5,\n",
              " 'Weather_conditions': 6,\n",
              " 'Road_traffic_density': 7,\n",
              " 'Vehicle_condition': 8,\n",
              " 'Type_of_order': 9,\n",
              " 'Type_of_vehicle': 10,\n",
              " 'multiple_deliveries': 11,\n",
              " 'Festival': 12,\n",
              " 'City_type': 13,\n",
              " 'Time_taken(min)': 14,\n",
              " 'City_code': 15,\n",
              " 'is_weekend': 16,\n",
              " 'month_intervals': 17,\n",
              " 'year_quarter': 18,\n",
              " 'order_prepare_time': 19,\n",
              " 'distance': 20}"
            ]
          },
          "execution_count": 5,
          "metadata": {},
          "output_type": "execute_result"
        }
      ],
      "source": [
        "column_mapping = {column_name: idx for idx, column_name in enumerate(df.columns)}\n",
        "column_mapping"
      ]
    },
    {
      "cell_type": "markdown",
      "metadata": {
        "id": "osPjIdD5lHuN"
      },
      "source": [
        "##### **Train Test split**"
      ]
    },
    {
      "cell_type": "code",
      "execution_count": 6,
      "metadata": {
        "colab": {
          "base_uri": "https://localhost:8080/"
        },
        "id": "BSr_k7RKlHuO",
        "outputId": "7831d6e2-5351-4aad-bf32-60a25a828179"
      },
      "outputs": [
        {
          "name": "stdout",
          "output_type": "stream",
          "text": [
            "(36474, 20)\n",
            "(36474,)\n",
            "(9119, 20)\n",
            "(9119,)\n"
          ]
        }
      ],
      "source": [
        "#Split features & label\n",
        "X = df.drop('Time_taken(min)', axis=1)  # Features\n",
        "y = df['Time_taken(min)']               # Target variable\n",
        "\n",
        "# Split the data into train and test sets\n",
        "X_train, X_test, y_train, y_test = train_test_split(X, y, test_size=0.2, random_state=42)\n",
        "print(X_train.shape)\n",
        "print(y_train.shape)\n",
        "print(X_test.shape)\n",
        "print(y_test.shape)"
      ]
    },
    {
      "cell_type": "markdown",
      "metadata": {
        "id": "RpMNcJcqlHuO"
      },
      "source": [
        "##### **Standardization**"
      ]
    },
    {
      "cell_type": "code",
      "execution_count": 7,
      "metadata": {
        "id": "BsJB7xc_lHuO"
      },
      "outputs": [],
      "source": [
        "# Create a StandardScaler object\n",
        "scaler = StandardScaler()\n",
        "\n",
        "# Fit the scaler on the training data\n",
        "scaler.fit(X_train)\n",
        "\n",
        "# Perform standardization on the training data\n",
        "X_train = scaler.transform(X_train)\n",
        "\n",
        "# Perform standardization on the testing data\n",
        "X_test = scaler.transform(X_test)"
      ]
    },
    {
      "cell_type": "markdown",
      "metadata": {
        "id": "SiRDYNK6lHuO"
      },
      "source": [
        "##### **Model Building**\n",
        "##### Steps\n",
        "\n",
        "1. Employ cross-validation & hyper parameter tuning to determine the optimal regression model.\n",
        "2. Construct the food delivery prediction model using the identified best model.\n",
        "3. Evaluate the model's performance on the testing data to assess its accuracy and reliability."
      ]
    },
    {
      "cell_type": "markdown",
      "metadata": {
        "id": "NIqwwmaslHuO"
      },
      "source": [
        "##### Cross Validation"
      ]
    },
    {
      "cell_type": "markdown",
      "metadata": {
        "id": "Qi2ijSlcnzFz"
      },
      "source": [
        "**Defining a parameter grid for hyperparameter tuning** for various machine learning models. Each dictionary within the `param_grid` list represents a set of hyperparameters to be tuned for a specific model.\n",
        "\n",
        "**Hyperparameter tuning** involves searching for the optimal combination of hyperparameters to maximize model performance. By trying different combinations of hyperparameters, we can assess how each set of parameters affects the model's accuracy.\n",
        "\n",
        "Techniques like grid search or randomized search are used to explore the parameter grid and find the best combination of hyperparameters that maximizes the model's performance.\n",
        "\n",
        "Once you've defined your `param_grid`, we can pass it to a grid search or randomized search algorithm along with your model and training data to perform hyperparameter tuning.\n",
        "\n",
        "We are using **GridSearchCV** for cross validation:\n",
        "\n",
        "Here's a brief explanation of each set of hyperparameters in your `param_grid`:\n",
        "\n",
        "1. Default parameters: Represents the default hyperparameters for the model.\n",
        "2. `max_depth`: Varies the maximum depth of the decision trees in the model.\n",
        "3. `n_estimators` and `max_features`: Varies the number of estimators (trees) and the maximum number of features to consider when splitting a node in the random forest model.\n",
        "4. `n_estimators` and `max_depth`: Varies the number of estimators (trees) and the maximum depth of the trees in the XGBoost model."
      ]
    },
    {
      "cell_type": "code",
      "execution_count": 8,
      "metadata": {
        "colab": {
          "base_uri": "https://localhost:8080/"
        },
        "id": "bukk6R1tlHuT",
        "outputId": "6ea35df3-d96c-460c-f6c8-9b2935e3cd6b"
      },
      "outputs": [
        {
          "name": "stdout",
          "output_type": "stream",
          "text": [
            "LinearRegression:\n",
            "Best parameters: {}\n",
            "Best R2 score: 0.41791712158890526\n",
            "\n",
            "DecisionTreeRegressor:\n",
            "Best parameters: {'max_depth': 7}\n",
            "Best R2 score: 0.7308083623048635\n",
            "\n",
            "RandomForestRegressor:\n",
            "Best parameters: {'max_features': 'auto', 'n_estimators': 7}\n",
            "Best R2 score: 0.7902488796579373\n",
            "\n",
            "XGBRegressor:\n",
            "Best parameters: {'max_depth': 9, 'n_estimators': 20}\n",
            "Best R2 score: 0.8203634289386962\n",
            "\n"
          ]
        }
      ],
      "source": [
        "# Find the best model\n",
        "models = [\n",
        "    LinearRegression(),\n",
        "    DecisionTreeRegressor(),\n",
        "    RandomForestRegressor(),\n",
        "    xgb.XGBRegressor(),         # Random Forest regressor with XGBoost (Gradient Boosting Trees)\n",
        "\n",
        "    # optional\n",
        "    # LGBMRegressor(),          # Light Gradient Boost Regressor\n",
        "    # CatBoostRegressor()       # Cat Boost Regressor\n",
        "]\n",
        "\n",
        "param_grid = [\n",
        "    {},\n",
        "    {'max_depth': [3, 5, 7]},\n",
        "    {'n_estimators': [3, 5, 7], 'max_features': ['auto', 'sqrt', 'log2']},                          # to reduce training time\n",
        "                                                                                                    # {'n_estimators': [100, 200, 300]}, # more training time\n",
        "\n",
        "    {'n_estimators': [20, 25, 30], 'max_depth': [5, 7, 9]},                                         # xgb params\n",
        "\n",
        "    # {'num_leaves': [15, 20, 5], 'max_depth': [3, 5, 8], 'learning_rate': [0.05, 0.1, 0.2]},       # 'num_leaves': [85]\n",
        "    # {'n_estimators': [5, 7, 9], 'max_depth': [6, 8, 10], 'learning_rate': [0.05, 0.1, 0.2]}       # experiment with 'n_estimators': [500, 700, 900]\n",
        "]\n",
        "\n",
        "for i, model in enumerate(models):\n",
        "    grid_search = GridSearchCV(model, param_grid[i], cv=5, scoring='r2')\n",
        "    grid_search.fit(X_train, y_train)\n",
        "\n",
        "    print(f\"{model.__class__.__name__}:\")\n",
        "    print(\"Best parameters:\", grid_search.best_params_)\n",
        "    print(\"Best R2 score:\", grid_search.best_score_)\n",
        "    print()"
      ]
    },
    {
      "cell_type": "markdown",
      "metadata": {
        "id": "ZB8ugu_vlHuU"
      },
      "source": [
        "##### **Fitting the model**"
      ]
    },
    {
      "cell_type": "code",
      "execution_count": 9,
      "metadata": {
        "colab": {
          "base_uri": "https://localhost:8080/",
          "height": 231
        },
        "id": "fcMNdHMflHuU",
        "outputId": "c0e5cd23-61d2-43c3-edbe-76f00d78af63"
      },
      "outputs": [
        {
          "data": {
            "text/html": [
              "<style>#sk-container-id-1 {color: black;background-color: white;}#sk-container-id-1 pre{padding: 0;}#sk-container-id-1 div.sk-toggleable {background-color: white;}#sk-container-id-1 label.sk-toggleable__label {cursor: pointer;display: block;width: 100%;margin-bottom: 0;padding: 0.3em;box-sizing: border-box;text-align: center;}#sk-container-id-1 label.sk-toggleable__label-arrow:before {content: \"▸\";float: left;margin-right: 0.25em;color: #696969;}#sk-container-id-1 label.sk-toggleable__label-arrow:hover:before {color: black;}#sk-container-id-1 div.sk-estimator:hover label.sk-toggleable__label-arrow:before {color: black;}#sk-container-id-1 div.sk-toggleable__content {max-height: 0;max-width: 0;overflow: hidden;text-align: left;background-color: #f0f8ff;}#sk-container-id-1 div.sk-toggleable__content pre {margin: 0.2em;color: black;border-radius: 0.25em;background-color: #f0f8ff;}#sk-container-id-1 input.sk-toggleable__control:checked~div.sk-toggleable__content {max-height: 200px;max-width: 100%;overflow: auto;}#sk-container-id-1 input.sk-toggleable__control:checked~label.sk-toggleable__label-arrow:before {content: \"▾\";}#sk-container-id-1 div.sk-estimator input.sk-toggleable__control:checked~label.sk-toggleable__label {background-color: #d4ebff;}#sk-container-id-1 div.sk-label input.sk-toggleable__control:checked~label.sk-toggleable__label {background-color: #d4ebff;}#sk-container-id-1 input.sk-hidden--visually {border: 0;clip: rect(1px 1px 1px 1px);clip: rect(1px, 1px, 1px, 1px);height: 1px;margin: -1px;overflow: hidden;padding: 0;position: absolute;width: 1px;}#sk-container-id-1 div.sk-estimator {font-family: monospace;background-color: #f0f8ff;border: 1px dotted black;border-radius: 0.25em;box-sizing: border-box;margin-bottom: 0.5em;}#sk-container-id-1 div.sk-estimator:hover {background-color: #d4ebff;}#sk-container-id-1 div.sk-parallel-item::after {content: \"\";width: 100%;border-bottom: 1px solid gray;flex-grow: 1;}#sk-container-id-1 div.sk-label:hover label.sk-toggleable__label {background-color: #d4ebff;}#sk-container-id-1 div.sk-serial::before {content: \"\";position: absolute;border-left: 1px solid gray;box-sizing: border-box;top: 0;bottom: 0;left: 50%;z-index: 0;}#sk-container-id-1 div.sk-serial {display: flex;flex-direction: column;align-items: center;background-color: white;padding-right: 0.2em;padding-left: 0.2em;position: relative;}#sk-container-id-1 div.sk-item {position: relative;z-index: 1;}#sk-container-id-1 div.sk-parallel {display: flex;align-items: stretch;justify-content: center;background-color: white;position: relative;}#sk-container-id-1 div.sk-item::before, #sk-container-id-1 div.sk-parallel-item::before {content: \"\";position: absolute;border-left: 1px solid gray;box-sizing: border-box;top: 0;bottom: 0;left: 50%;z-index: -1;}#sk-container-id-1 div.sk-parallel-item {display: flex;flex-direction: column;z-index: 1;position: relative;background-color: white;}#sk-container-id-1 div.sk-parallel-item:first-child::after {align-self: flex-end;width: 50%;}#sk-container-id-1 div.sk-parallel-item:last-child::after {align-self: flex-start;width: 50%;}#sk-container-id-1 div.sk-parallel-item:only-child::after {width: 0;}#sk-container-id-1 div.sk-dashed-wrapped {border: 1px dashed gray;margin: 0 0.4em 0.5em 0.4em;box-sizing: border-box;padding-bottom: 0.4em;background-color: white;}#sk-container-id-1 div.sk-label label {font-family: monospace;font-weight: bold;display: inline-block;line-height: 1.2em;}#sk-container-id-1 div.sk-label-container {text-align: center;}#sk-container-id-1 div.sk-container {/* jupyter's `normalize.less` sets `[hidden] { display: none; }` but bootstrap.min.css set `[hidden] { display: none !important; }` so we also need the `!important` here to be able to override the default hidden behavior on the sphinx rendered scikit-learn.org. See: https://github.com/scikit-learn/scikit-learn/issues/21755 */display: inline-block !important;position: relative;}#sk-container-id-1 div.sk-text-repr-fallback {display: none;}</style><div id=\"sk-container-id-1\" class=\"sk-top-container\"><div class=\"sk-text-repr-fallback\"><pre>XGBRegressor(base_score=0.5, booster=&#x27;gbtree&#x27;, callbacks=None,\n",
              "             colsample_bylevel=1, colsample_bynode=1, colsample_bytree=1,\n",
              "             early_stopping_rounds=None, enable_categorical=False,\n",
              "             eval_metric=None, gamma=0, gpu_id=-1, grow_policy=&#x27;depthwise&#x27;,\n",
              "             importance_type=None, interaction_constraints=&#x27;&#x27;,\n",
              "             learning_rate=0.300000012, max_bin=256, max_cat_to_onehot=4,\n",
              "             max_delta_step=0, max_depth=9, max_leaves=0, min_child_weight=1,\n",
              "             missing=nan, monotone_constraints=&#x27;()&#x27;, n_estimators=20, n_jobs=0,\n",
              "             num_parallel_tree=1, predictor=&#x27;auto&#x27;, random_state=0, reg_alpha=0,\n",
              "             reg_lambda=1, ...)</pre><b>In a Jupyter environment, please rerun this cell to show the HTML representation or trust the notebook. <br />On GitHub, the HTML representation is unable to render, please try loading this page with nbviewer.org.</b></div><div class=\"sk-container\" hidden><div class=\"sk-item\"><div class=\"sk-estimator sk-toggleable\"><input class=\"sk-toggleable__control sk-hidden--visually\" id=\"sk-estimator-id-1\" type=\"checkbox\" checked><label for=\"sk-estimator-id-1\" class=\"sk-toggleable__label sk-toggleable__label-arrow\">XGBRegressor</label><div class=\"sk-toggleable__content\"><pre>XGBRegressor(base_score=0.5, booster=&#x27;gbtree&#x27;, callbacks=None,\n",
              "             colsample_bylevel=1, colsample_bynode=1, colsample_bytree=1,\n",
              "             early_stopping_rounds=None, enable_categorical=False,\n",
              "             eval_metric=None, gamma=0, gpu_id=-1, grow_policy=&#x27;depthwise&#x27;,\n",
              "             importance_type=None, interaction_constraints=&#x27;&#x27;,\n",
              "             learning_rate=0.300000012, max_bin=256, max_cat_to_onehot=4,\n",
              "             max_delta_step=0, max_depth=9, max_leaves=0, min_child_weight=1,\n",
              "             missing=nan, monotone_constraints=&#x27;()&#x27;, n_estimators=20, n_jobs=0,\n",
              "             num_parallel_tree=1, predictor=&#x27;auto&#x27;, random_state=0, reg_alpha=0,\n",
              "             reg_lambda=1, ...)</pre></div></div></div></div></div>"
            ],
            "text/plain": [
              "XGBRegressor(base_score=0.5, booster='gbtree', callbacks=None,\n",
              "             colsample_bylevel=1, colsample_bynode=1, colsample_bytree=1,\n",
              "             early_stopping_rounds=None, enable_categorical=False,\n",
              "             eval_metric=None, gamma=0, gpu_id=-1, grow_policy='depthwise',\n",
              "             importance_type=None, interaction_constraints='',\n",
              "             learning_rate=0.300000012, max_bin=256, max_cat_to_onehot=4,\n",
              "             max_delta_step=0, max_depth=9, max_leaves=0, min_child_weight=1,\n",
              "             missing=nan, monotone_constraints='()', n_estimators=20, n_jobs=0,\n",
              "             num_parallel_tree=1, predictor='auto', random_state=0, reg_alpha=0,\n",
              "             reg_lambda=1, ...)"
            ]
          },
          "execution_count": 9,
          "metadata": {},
          "output_type": "execute_result"
        }
      ],
      "source": [
        "# Create a XGB regressor model\n",
        "xgb_model = xgb.XGBRegressor(n_estimators=20,max_depth=9)\n",
        "\n",
        "# Fit the model on the training data\n",
        "xgb_model.fit(X_train, y_train)"
      ]
    },
    {
      "cell_type": "markdown",
      "metadata": {
        "id": "R-A4EWKxlHuU"
      },
      "source": [
        "##### **Model Evaluation**"
      ]
    },
    {
      "attachments": {
        "Adjusted_R2.png": {
          "image/png": "[encoded data removed]"
        }
      },
      "cell_type": "markdown",
      "metadata": {
        "id": "vUKY20svAJlW"
      },
      "source": [
        "To calculate the adjusted R-squared, you can use the following formula:\n",
        "\n",
        "![Adjusted_R2.png](attachment:Adjusted_R2.png)"
      ]
    },
    {
      "cell_type": "code",
      "execution_count": 10,
      "metadata": {
        "colab": {
          "base_uri": "https://localhost:8080/"
        },
        "id": "s_-AYDNolHuU",
        "outputId": "004ff929-3263-4848-a346-86c314f494ce"
      },
      "outputs": [
        {
          "name": "stdout",
          "output_type": "stream",
          "text": [
            "Mean Absolute Error (MAE): 3.15\n",
            "Mean Squared Error (MSE): 15.66\n",
            "Root Mean Squared Error (RMSE): 3.96\n",
            "R-squared (R2) Score: 0.82\n",
            "Adjusted R-squared Score: 0.82\n"
          ]
        }
      ],
      "source": [
        "# Make predictions on the test data\n",
        "y_pred = xgb_model.predict(X_test)\n",
        "\n",
        "def adjusted_r_squared(r2, n, k):\n",
        "    return 1 - ((1 - r2) * (n - 1) / (n - k - 1))\n",
        "\n",
        "# Evaluate the model\n",
        "mae = mean_absolute_error(y_test, y_pred)\n",
        "mse = mean_squared_error(y_test, y_pred)\n",
        "rmse = np.sqrt(mse)\n",
        "r2 = r2_score(y_test, y_pred)\n",
        "adjusted_r2 = adjusted_r_squared(r2, len(y_test), X_test.shape[1])\n",
        "\n",
        "print(\"Mean Absolute Error (MAE):\", round(mae,2))\n",
        "print(\"Mean Squared Error (MSE):\", round(mse,2))\n",
        "print(\"Root Mean Squared Error (RMSE):\", round(rmse,2))\n",
        "print(\"R-squared (R2) Score:\", round(r2,2))\n",
        "print(\"Adjusted R-squared Score:\", round(adjusted_r2, 2))"
      ]
    },
    {
      "cell_type": "markdown",
      "metadata": {
        "id": "syHugHT1ENKT"
      },
      "source": [
        "##### **Feature Selection of training data**\n",
        "\n",
        "**Forward Feature Selection** is an iterative method wherein we start with the performing features against the target features. Next, we select another variable that gives the best performance in combination with the first selected variable. This process continues until the preset criterion is achieved.\n",
        "\n",
        "https://www.analyticsvidhya.com/blog/2020/10/feature-selection-techniques-in-machine-learning/"
      ]
    },
    {
      "cell_type": "code",
      "execution_count": 11,
      "metadata": {
        "colab": {
          "base_uri": "https://localhost:8080/"
        },
        "id": "OBvL3UcmEndQ",
        "outputId": "8047048a-d7fc-402f-bd52-ad306a9b59e8"
      },
      "outputs": [
        {
          "name": "stderr",
          "output_type": "stream",
          "text": [
            "[Parallel(n_jobs=1)]: Using backend SequentialBackend with 1 concurrent workers.\n",
            "[Parallel(n_jobs=1)]: Done   1 out of   1 | elapsed:    0.1s remaining:    0.0s\n",
            "[Parallel(n_jobs=1)]: Done  20 out of  20 | elapsed:    2.6s finished\n",
            "\n",
            "[2024-03-31 17:04:57] Features: 1/20 -- score: 0.19198440188983829[Parallel(n_jobs=1)]: Using backend SequentialBackend with 1 concurrent workers.\n",
            "[Parallel(n_jobs=1)]: Done   1 out of   1 | elapsed:    0.1s remaining:    0.0s\n",
            "[Parallel(n_jobs=1)]: Done  19 out of  19 | elapsed:    3.9s finished\n",
            "\n",
            "[2024-03-31 17:05:01] Features: 2/20 -- score: 0.34439291232674424[Parallel(n_jobs=1)]: Using backend SequentialBackend with 1 concurrent workers.\n",
            "[Parallel(n_jobs=1)]: Done   1 out of   1 | elapsed:    0.1s remaining:    0.0s\n",
            "[Parallel(n_jobs=1)]: Done  18 out of  18 | elapsed:    4.1s finished\n",
            "\n",
            "[2024-03-31 17:05:05] Features: 3/20 -- score: 0.4644091179910545[Parallel(n_jobs=1)]: Using backend SequentialBackend with 1 concurrent workers.\n",
            "[Parallel(n_jobs=1)]: Done   1 out of   1 | elapsed:    0.2s remaining:    0.0s\n",
            "[Parallel(n_jobs=1)]: Done  17 out of  17 | elapsed:    4.2s finished\n",
            "\n",
            "[2024-03-31 17:05:09] Features: 4/20 -- score: 0.5810042923403549[Parallel(n_jobs=1)]: Using backend SequentialBackend with 1 concurrent workers.\n",
            "[Parallel(n_jobs=1)]: Done   1 out of   1 | elapsed:    0.2s remaining:    0.0s\n",
            "[Parallel(n_jobs=1)]: Done  16 out of  16 | elapsed:    4.1s finished\n",
            "\n",
            "[2024-03-31 17:05:14] Features: 5/20 -- score: 0.6881061738796375[Parallel(n_jobs=1)]: Using backend SequentialBackend with 1 concurrent workers.\n",
            "[Parallel(n_jobs=1)]: Done   1 out of   1 | elapsed:    0.2s remaining:    0.0s\n",
            "[Parallel(n_jobs=1)]: Done  15 out of  15 | elapsed:    4.2s finished\n",
            "\n",
            "[2024-03-31 17:05:18] Features: 6/20 -- score: 0.7932969218339957[Parallel(n_jobs=1)]: Using backend SequentialBackend with 1 concurrent workers.\n",
            "[Parallel(n_jobs=1)]: Done   1 out of   1 | elapsed:    0.3s remaining:    0.0s\n",
            "[Parallel(n_jobs=1)]: Done  14 out of  14 | elapsed:    4.8s finished\n",
            "\n",
            "[2024-03-31 17:05:23] Features: 7/20 -- score: 0.8078902282891758[Parallel(n_jobs=1)]: Using backend SequentialBackend with 1 concurrent workers.\n",
            "[Parallel(n_jobs=1)]: Done   1 out of   1 | elapsed:    0.3s remaining:    0.0s\n",
            "[Parallel(n_jobs=1)]: Done  13 out of  13 | elapsed:    5.3s finished\n",
            "\n",
            "[2024-03-31 17:05:28] Features: 8/20 -- score: 0.8134446210018316[Parallel(n_jobs=1)]: Using backend SequentialBackend with 1 concurrent workers.\n",
            "[Parallel(n_jobs=1)]: Done   1 out of   1 | elapsed:    0.3s remaining:    0.0s\n",
            "[Parallel(n_jobs=1)]: Done  12 out of  12 | elapsed:    4.9s finished\n",
            "\n",
            "[2024-03-31 17:05:33] Features: 9/20 -- score: 0.8167058021693642[Parallel(n_jobs=1)]: Using backend SequentialBackend with 1 concurrent workers.\n",
            "[Parallel(n_jobs=1)]: Done   1 out of   1 | elapsed:    0.3s remaining:    0.0s\n",
            "[Parallel(n_jobs=1)]: Done  11 out of  11 | elapsed:    3.8s finished\n",
            "\n",
            "[2024-03-31 17:05:37] Features: 10/20 -- score: 0.8170062331043197[Parallel(n_jobs=1)]: Using backend SequentialBackend with 1 concurrent workers.\n",
            "[Parallel(n_jobs=1)]: Done   1 out of   1 | elapsed:    0.3s remaining:    0.0s\n",
            "[Parallel(n_jobs=1)]: Done  10 out of  10 | elapsed:    3.3s finished\n",
            "\n",
            "[2024-03-31 17:05:41] Features: 11/20 -- score: 0.81731376865359[Parallel(n_jobs=1)]: Using backend SequentialBackend with 1 concurrent workers.\n",
            "[Parallel(n_jobs=1)]: Done   1 out of   1 | elapsed:    0.2s remaining:    0.0s\n",
            "[Parallel(n_jobs=1)]: Done   9 out of   9 | elapsed:    3.7s finished\n",
            "\n",
            "[2024-03-31 17:05:44] Features: 12/20 -- score: 0.8160519809269196[Parallel(n_jobs=1)]: Using backend SequentialBackend with 1 concurrent workers.\n",
            "[Parallel(n_jobs=1)]: Done   1 out of   1 | elapsed:    0.3s remaining:    0.0s\n",
            "[Parallel(n_jobs=1)]: Done   8 out of   8 | elapsed:    3.1s finished\n",
            "\n",
            "[2024-03-31 17:05:48] Features: 13/20 -- score: 0.8156666443612043[Parallel(n_jobs=1)]: Using backend SequentialBackend with 1 concurrent workers.\n",
            "[Parallel(n_jobs=1)]: Done   1 out of   1 | elapsed:    0.5s remaining:    0.0s\n",
            "[Parallel(n_jobs=1)]: Done   7 out of   7 | elapsed:    3.3s finished\n",
            "\n",
            "[2024-03-31 17:05:51] Features: 14/20 -- score: 0.81580870004112[Parallel(n_jobs=1)]: Using backend SequentialBackend with 1 concurrent workers.\n",
            "[Parallel(n_jobs=1)]: Done   1 out of   1 | elapsed:    0.4s remaining:    0.0s\n",
            "[Parallel(n_jobs=1)]: Done   6 out of   6 | elapsed:    3.0s finished\n",
            "\n",
            "[2024-03-31 17:05:54] Features: 15/20 -- score: 0.8152323379657265[Parallel(n_jobs=1)]: Using backend SequentialBackend with 1 concurrent workers.\n",
            "[Parallel(n_jobs=1)]: Done   1 out of   1 | elapsed:    0.4s remaining:    0.0s\n",
            "[Parallel(n_jobs=1)]: Done   5 out of   5 | elapsed:    2.4s finished\n",
            "\n",
            "[2024-03-31 17:05:57] Features: 16/20 -- score: 0.8150709922714485[Parallel(n_jobs=1)]: Using backend SequentialBackend with 1 concurrent workers.\n",
            "[Parallel(n_jobs=1)]: Done   1 out of   1 | elapsed:    0.4s remaining:    0.0s\n",
            "[Parallel(n_jobs=1)]: Done   4 out of   4 | elapsed:    1.9s finished\n",
            "\n",
            "[2024-03-31 17:05:59] Features: 17/20 -- score: 0.8148065470326656[Parallel(n_jobs=1)]: Using backend SequentialBackend with 1 concurrent workers.\n",
            "[Parallel(n_jobs=1)]: Done   1 out of   1 | elapsed:    0.4s remaining:    0.0s\n",
            "[Parallel(n_jobs=1)]: Done   3 out of   3 | elapsed:    1.5s finished\n",
            "\n",
            "[2024-03-31 17:06:00] Features: 18/20 -- score: 0.8130375813844144[Parallel(n_jobs=1)]: Using backend SequentialBackend with 1 concurrent workers.\n",
            "[Parallel(n_jobs=1)]: Done   1 out of   1 | elapsed:    0.4s remaining:    0.0s\n",
            "[Parallel(n_jobs=1)]: Done   2 out of   2 | elapsed:    0.9s finished\n",
            "\n",
            "[2024-03-31 17:06:01] Features: 19/20 -- score: 0.8131067587761456[Parallel(n_jobs=1)]: Using backend SequentialBackend with 1 concurrent workers.\n",
            "[Parallel(n_jobs=1)]: Done   1 out of   1 | elapsed:    0.4s remaining:    0.0s\n",
            "[Parallel(n_jobs=1)]: Done   1 out of   1 | elapsed:    0.4s finished\n",
            "\n",
            "[2024-03-31 17:06:02] Features: 20/20 -- score: 0.8120332723870143"
          ]
        },
        {
          "data": {
            "text/plain": [
              "[0, 1, 6, 7, 8, 11, 12, 13, 15, 18, 19]"
            ]
          },
          "execution_count": 11,
          "metadata": {},
          "output_type": "execute_result"
        }
      ],
      "source": [
        "from mlxtend.feature_selection import SequentialFeatureSelector as SFS\n",
        "sfs = SFS(xgb.XGBRegressor(n_estimators=20,max_depth=9),\n",
        "           k_features=\"best\",\n",
        "           forward=True,\n",
        "           floating=False,\n",
        "           verbose=2,\n",
        "           scoring='r2',\n",
        "           cv=2)\n",
        "\n",
        "sfs = sfs.fit(X_train ,y_train)\n",
        "selected_feat_= list(sfs.k_feature_names_)\n",
        "selected_feat_ = list(map(int, selected_feat_))\n",
        "\n",
        "selected_feat_"
      ]
    },
    {
      "cell_type": "markdown",
      "metadata": {
        "id": "nlOtnzroA3QF"
      },
      "source": [
        "The features selected are indexed at [0, 1, 6, 7, 8, 10, 11, 12, 13, 18, 19].\n",
        "\n",
        "The features selected might vary a little, but the accuracy remains the same approximately."
      ]
    },
    {
      "cell_type": "code",
      "execution_count": 13,
      "metadata": {
        "colab": {
          "base_uri": "https://localhost:8080/"
        },
        "id": "swsnqIfPod94",
        "outputId": "cfa9c8a8-c913-4796-cc43-401f86242f4c"
      },
      "outputs": [
        {
          "name": "stdout",
          "output_type": "stream",
          "text": [
            "Mean Absolute Error (MAE): 3.15\n",
            "Mean Squared Error (MSE): 15.66\n",
            "Root Mean Squared Error (RMSE): 3.96\n",
            "R-squared (R2) Score: 0.82\n",
            "Adjusted R-squared Score: 0.82\n"
          ]
        }
      ],
      "source": [
        "# Split features and target variable\n",
        "\n",
        "selected_columns = ['Delivery_person_Age', 'Delivery_person_Ratings', 'Weather_conditions',\n",
        "                    'Road_traffic_density', 'Vehicle_condition', 'Type_of_vehicle', 'multiple_deliveries', 'Festival', 'City_type',\n",
        "                    'month_intervals', 'year_quarter'\n",
        "                    ]\n",
        "X_train = df[selected_columns]         # Features\n",
        "y = df['Time_taken(min)']              # Target variable\n",
        "\n",
        "# Split the data into train and test sets\n",
        "X_train, X_test, y_train, y_test = train_test_split(X, y, test_size=0.2, random_state=42)\n",
        "\n",
        "\n",
        "scaler = StandardScaler()                    # Create a StandardScaler object\n",
        "scaler.fit(X_train)                          # Fit the scaler on the training data\n",
        "X_train = scaler.transform(X_train)          # Perform standardization on the training data\n",
        "X_test = scaler.transform(X_test)            # Perform standardization on the testing data\n",
        "\n",
        "\n",
        "# Fit XGBRegressor model with selected features\n",
        "model = xgb.XGBRegressor(n_estimators=20, max_depth=9)  # Initialize XGBRegressor model\n",
        "model.fit(X_train, y_train)\n",
        "\n",
        "\n",
        "# Make predictions with selected features and seeing if accuracy improved or not of the model\n",
        "xgb_pred = model.predict(X_test)\n",
        "\n",
        "\n",
        "def adjusted_r_squared(r2, n, k):\n",
        "    return 1 - ((1 - r2) * (n - 1) / (n - k - 1))\n",
        "\n",
        "# Evaluate the model\n",
        "mae = mean_absolute_error(y_test, xgb_pred)\n",
        "mse = mean_squared_error(y_test, xgb_pred)\n",
        "rmse = np.sqrt(mse)\n",
        "r2 = r2_score(y_test, xgb_pred)\n",
        "adjusted_r2 = adjusted_r_squared(r2, len(y_test), X_test.shape[1])\n",
        "\n",
        "print(\"Mean Absolute Error (MAE):\", round(mae,2))\n",
        "print(\"Mean Squared Error (MSE):\", round(mse,2))\n",
        "print(\"Root Mean Squared Error (RMSE):\", round(rmse,2))\n",
        "print(\"R-squared (R2) Score:\", round(r2,2))\n",
        "print(\"Adjusted R-squared Score:\", round(adjusted_r2, 2))"
      ]
    },
    {
      "cell_type": "markdown",
      "metadata": {
        "id": "YQDpFDsGq_Fm"
      },
      "source": [
        "**Recursive Feature Elimination** is a feature selection method to identify a dataset’s key features. The process involves developing a model with the remaining features after repeatedly removing the least significant parts until the desired number of features is obtained.\n",
        "\n",
        "https://www.analyticsvidhya.com/blog/2023/05/recursive-feature-elimination/#:~:text=Recursive%20Feature%20Elimination%20offers%20a,feature's%20impact%20on%20model%20performance.\n",
        "\n",
        "https://medium.com/@evertongomede/recursive-feature-elimination-a-powerful-technique-for-feature-selection-in-machine-learning-89b3c2f3c26a"
      ]
    },
    {
      "cell_type": "code",
      "execution_count": 14,
      "metadata": {
        "colab": {
          "base_uri": "https://localhost:8080/",
          "height": 1000
        },
        "id": "z8GO2i6vuhGk",
        "outputId": "3ee24abf-d204-4445-87e5-753239dac54d"
      },
      "outputs": [
        {
          "data": {
            "image/png": "[encoded data removed]",
            "text/plain": [
              "<Figure size 500x500 with 1 Axes>"
            ]
          },
          "metadata": {},
          "output_type": "display_data"
        },
        {
          "name": "stdout",
          "output_type": "stream",
          "text": [
            "Selected 7 Features: Index(['Delivery_person_Ratings', 'Weather_conditions', 'Road_traffic_density',\n",
            "       'Vehicle_condition', 'multiple_deliveries', 'Festival', 'distance'],\n",
            "      dtype='object')\n",
            "Accuracy on the Test Set: 0.7206683103053615\n"
          ]
        },
        {
          "data": {
            "image/png": "[encoded data removed]",
            "text/plain": [
              "<Figure size 500x500 with 1 Axes>"
            ]
          },
          "metadata": {},
          "output_type": "display_data"
        },
        {
          "name": "stdout",
          "output_type": "stream",
          "text": [
            "Selected 11 Features: Index(['Delivery_person_Age', 'Delivery_person_Ratings', 'Weather_conditions',\n",
            "       'Road_traffic_density', 'Vehicle_condition', 'multiple_deliveries',\n",
            "       'Festival', 'City_type', 'City_code', 'order_prepare_time', 'distance'],\n",
            "      dtype='object')\n",
            "Accuracy on the Test Set: 0.8247500455023199\n"
          ]
        },
        {
          "data": {
            "image/png": "[encoded data removed]",
            "text/plain": [
              "<Figure size 500x500 with 1 Axes>"
            ]
          },
          "metadata": {},
          "output_type": "display_data"
        },
        {
          "name": "stdout",
          "output_type": "stream",
          "text": [
            "Selected 15 Features: Index(['Delivery_person_Age', 'Delivery_person_Ratings',\n",
            "       'Delivery_location_latitude', 'Delivery_location_longitude',\n",
            "       'Weather_conditions', 'Road_traffic_density', 'Vehicle_condition',\n",
            "       'Type_of_vehicle', 'multiple_deliveries', 'Festival', 'City_type',\n",
            "       'City_code', 'month_intervals', 'order_prepare_time', 'distance'],\n",
            "      dtype='object')\n",
            "Accuracy on the Test Set: 0.8221773127405811\n"
          ]
        },
        {
          "data": {
            "image/png": "[encoded data removed]",
            "text/plain": [
              "<Figure size 500x500 with 1 Axes>"
            ]
          },
          "metadata": {},
          "output_type": "display_data"
        },
        {
          "name": "stdout",
          "output_type": "stream",
          "text": [
            "Selected 18 Features: Index(['Delivery_person_Age', 'Delivery_person_Ratings',\n",
            "       'Delivery_location_latitude', 'Delivery_location_longitude',\n",
            "       'Weather_conditions', 'Road_traffic_density', 'Vehicle_condition',\n",
            "       'Type_of_order', 'Type_of_vehicle', 'multiple_deliveries', 'Festival',\n",
            "       'City_type', 'City_code', 'is_weekend', 'month_intervals',\n",
            "       'year_quarter', 'order_prepare_time', 'distance'],\n",
            "      dtype='object')\n",
            "Accuracy on the Test Set: 0.8220848863287671\n"
          ]
        },
        {
          "data": {
            "image/png": "[encoded data removed]",
            "text/plain": [
              "<Figure size 500x500 with 1 Axes>"
            ]
          },
          "metadata": {},
          "output_type": "display_data"
        },
        {
          "name": "stdout",
          "output_type": "stream",
          "text": [
            "Selected 20 Features: Index(['Delivery_person_Age', 'Delivery_person_Ratings', 'Restaurant_latitude',\n",
            "       'Restaurant_longitude', 'Delivery_location_latitude',\n",
            "       'Delivery_location_longitude', 'Weather_conditions',\n",
            "       'Road_traffic_density', 'Vehicle_condition', 'Type_of_order',\n",
            "       'Type_of_vehicle', 'multiple_deliveries', 'Festival', 'City_type',\n",
            "       'City_code', 'is_weekend', 'month_intervals', 'year_quarter',\n",
            "       'order_prepare_time', 'distance'],\n",
            "      dtype='object')\n",
            "Accuracy on the Test Set: 0.8214248995105513\n"
          ]
        }
      ],
      "source": [
        "from sklearn.feature_selection import RFE\n",
        "\n",
        "# Split features and target variable\n",
        "X = df.drop('Time_taken(min)', axis=1)  # Features\n",
        "y = df['Time_taken(min)']  # Target variable\n",
        "\n",
        "# Split the data into train and test sets\n",
        "X_train, X_test, y_train, y_test = train_test_split(X, y, test_size=0.2, random_state=42)\n",
        "\n",
        "scaler = StandardScaler()                    # Create a StandardScaler object\n",
        "scaler.fit(X_train)                          # Fit the scaler on the training data\n",
        "X_train_scaled = scaler.transform(X_train)   # Perform standardization on the training data\n",
        "X_test_scaled = scaler.transform(X_test)     # Perform standardization on the testing data\n",
        "\n",
        "# Initialize XGBRegressor model as the base model\n",
        "xgb_model = xgb.XGBRegressor(n_estimators=20, max_depth=9)\n",
        "\n",
        "# Define the number of features to select\n",
        "num_features_list = [7, 11, 15, 18, 20]\n",
        "\n",
        "feature_names = X.columns  # Get the feature names from the DataFrame\n",
        "\n",
        "for num_features in num_features_list:\n",
        "\n",
        "    # Initialize RFE with the model and the number of features to select\n",
        "    rfe = RFE(estimator=xgb_model, n_features_to_select=num_features)\n",
        "\n",
        "    # Fit RFE to the training data\n",
        "    rfe.fit(X_train_scaled, y_train)\n",
        "\n",
        "    # Get the ranking of each feature\n",
        "    feature_ranking = rfe.ranking_\n",
        "\n",
        "    # Get the indices of the selected features\n",
        "    selected_features_indices = np.where(feature_ranking == 1)[0]\n",
        "\n",
        "    # Map the selected indices back to the feature names\n",
        "    selected_feature_names = feature_names[selected_features_indices]\n",
        "\n",
        "    # Visualize the feature ranking\n",
        "    plt.figure(figsize=(5, 5))\n",
        "    plt.title(f\"RFE - Feature Ranking for {num_features} Features\")\n",
        "    plt.xlabel(\"Feature Index\")\n",
        "    plt.ylabel(\"Ranking\")\n",
        "    plt.xticks(range(len(feature_ranking)), np.arange(1, len(feature_ranking) + 1))\n",
        "    plt.bar(range(len(feature_ranking)), feature_ranking)\n",
        "    plt.show()\n",
        "\n",
        "    # Print the selected features\n",
        "    print(f\"Selected {num_features} Features:\", selected_feature_names)\n",
        "\n",
        "    # Train the final model using the selected features\n",
        "    xgb_model.fit(X_train_scaled[:, selected_features_indices], y_train)\n",
        "\n",
        "    # Evaluate the model on the test set\n",
        "    accuracy = xgb_model.score(X_test_scaled[:, selected_features_indices], y_test)\n",
        "    print(\"Accuracy on the Test Set:\", accuracy)"
      ]
    },
    {
      "cell_type": "markdown",
      "metadata": {},
      "source": [
        "**After 11 features being selected, it is almost giving same accuracy of the xgboost model.**\n",
        "\n",
        "['Delivery_person_Age', 'Delivery_person_Ratings', 'Weather_conditions',\n",
        "'Road_traffic_density', 'Vehicle_condition', 'multiple_deliveries',\n",
        "'Festival', 'City', 'City_code', 'order_prepare_time', 'distance'] are the most contributing features.\n",
        "\n",
        "\n",
        "The selected features for predicting food delivery time each have unique impacts on delivery efficiency and timing. Here's a brief explanation for each:\n",
        "\n",
        "1. **Delivery_person_Age**: Older delivery personnel might have more experience navigating through the city, potentially affecting delivery times positively or negatively depending on various factors including physical fitness and familiarity with technology.\n",
        "\n",
        "2. **Delivery_person_Ratings**: Higher ratings could indicate more efficient and timely deliveries, as these ratings often reflect customer satisfaction with the delivery speed and service quality.\n",
        "\n",
        "3. **Weather_conditions**: Adverse weather conditions, such as rain or snow, can slow down delivery times due to safety concerns and reduced visibility or mobility.\n",
        "\n",
        "4. **Road_traffic_density**: High traffic density can lead to delays in delivery times due to congestion and slower movement through the city.\n",
        "\n",
        "5. **Vehicle_condition**: A well-maintained vehicle is less likely to encounter mechanical issues, ensuring smoother and potentially faster deliveries.\n",
        "\n",
        "6. **Multiple_deliveries**: Delivering multiple orders in one trip can affect delivery times due to the additional stops required, which can either optimize the route efficiency or cause delays depending on the planning.\n",
        "\n",
        "7. **Festival**: Festivals and public holidays can lead to increased traffic and order volume, potentially slowing down deliveries due to higher demand and road closures or restrictions.\n",
        "\n",
        "8. **City**: It is to represent the population density type of the region, classified as metropolitan, urban and rural etc. Varying infrastructure, traffic patterns, and distances between restaurants and delivery locations, all of which can significantly impact delivery times.\n",
        "\n",
        "9. **City_code**: City codes to represent various cities of India.\n",
        "\n",
        "10. **Order_prepare_time**: The time taken to prepare an order before it's ready for delivery directly affects the total delivery time, with longer preparation times leading to later deliveries.\n",
        "\n",
        "11. **Distance**: The distance between the restaurant and the delivery location is a direct factor affecting delivery time, with longer distances generally leading to longer delivery times.\n",
        "\n",
        "Understanding these factors can help in optimizing delivery processes and improving customer satisfaction by potentially reducing delivery times and enhancing the overall efficiency of the service."
      ]
    },
    {
      "cell_type": "markdown",
      "metadata": {
        "id": "XXUc9bPIE5v7"
      },
      "source": [
        "For different sets of the number of selected features, the accuracy does not improve above 0.82. It is almost constant in both the feature selection techniques.\n",
        "\n",
        "So, **XGB Regressor** with `n_estimators` = 20, `max_depth` = 9 is the **best model**."
      ]
    },
    {
      "cell_type": "markdown",
      "metadata": {
        "id": "6J_2eOESlHuW"
      },
      "source": [
        "##### Conclusion\n",
        "\n",
        "The food delivery prediction model was developed using XGBoost, achieving an impressive **R2 score** of **0.82**.\n",
        "\n",
        "**An R2 score of 0.82 implies that the model can explain approximately 82% of the variance in the food delivery time based model.**\n",
        "\n",
        "Moving forward, potential enhancements include identifying the best features, conducting additional feature engineering, and exploring other optimization techniques to further improve the model's performance and accuracy. These steps will contribute to fine-tuning the model and unlocking its full potential in predicting food delivery timings accurately."
      ]
    }
  ],
  "metadata": {
    "colab": {
      "provenance": [],
      "toc_visible": true
    },
    "kernelspec": {
      "display_name": "Python 3",
      "name": "python3"
    },
    "language_info": {
      "codemirror_mode": {
        "name": "ipython",
        "version": 3
      },
      "file_extension": ".py",
      "mimetype": "text/x-python",
      "name": "python",
      "nbconvert_exporter": "python",
      "pygments_lexer": "ipython3",
      "version": "3.11.4"
    }
  },
  "nbformat": 4,
  "nbformat_minor": 0
}
